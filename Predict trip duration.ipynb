{
 "cells": [
  {
   "cell_type": "markdown",
   "metadata": {},
   "source": [
    "# Import libraries"
   ]
  },
  {
   "cell_type": "code",
   "execution_count": 211,
   "metadata": {
    "scrolled": true
   },
   "outputs": [],
   "source": [
    "import numpy as np\n",
    "import matplotlib.pyplot as plt\n",
    "import pandas as pd\n",
    "import seaborn as sns\n",
    "from scipy import stats\n",
    "from sklearn.ensemble import RandomForestRegressor,GradientBoostingRegressor\n",
    "from sklearn.svm import SVR\n",
    "from sklearn.tree import DecisionTreeRegressor\n",
    "from sklearn.neural_network import MLPRegressor\n",
    "from sklearn.model_selection import train_test_split\n",
    "from sklearn.model_selection import GridSearchCV,RandomizedSearchCV\n",
    "from sklearn import preprocessing\n",
    "import time\n",
    "import geohash as gh\n",
    "from sklearn.metrics import mean_squared_error, r2_score\n",
    "import geopandas\n",
    "from scipy.stats import uniform,loguniform\n"
   ]
  },
  {
   "cell_type": "markdown",
   "metadata": {},
   "source": [
    "# Useful functions"
   ]
  },
  {
   "cell_type": "code",
   "execution_count": 4,
   "metadata": {},
   "outputs": [],
   "source": [
    "def scatterplot(x,y):\n",
    "    plt.scatter(x, y, label= \"stars\", color= \"green\",  \n",
    "            marker= \"*\", s=30) \n",
    "    # x-axis label \n",
    "    plt.xlabel('x - axis') \n",
    "    # frequency label \n",
    "    plt.ylabel('y - axis') \n",
    "    # plot title \n",
    "    plt.title('My scatter plot!') \n",
    "    # showing legend \n",
    "    plt.legend() \n",
    "\n",
    "    # function to show the plot \n",
    "    plt.show()\n",
    "def histplot(x,y,bins):\n",
    "    plt.hist(y, bins, x, color = 'green', \n",
    "        histtype = 'bar', rwidth = 0.8) \n",
    "  \n",
    "    # x-axis label \n",
    "    plt.xlabel('x - axis') \n",
    "    # frequency label \n",
    "    plt.ylabel('y - axis') \n",
    "    # plot title \n",
    "    plt.title('My histogram') \n",
    "\n",
    "    # function to show the plot \n",
    "    plt.show() \n",
    "def removeinvalid(df,df_series):\n",
    "    df = df[df_series>0]\n",
    "    return df\n",
    "def treat_outlier(df_series):\n",
    "    Q1=df_series.quantile(0.25)\n",
    "    Q3=df_series.quantile(0.75)\n",
    "    IQR=Q3-Q1\n",
    "    Lower_Whisker = Q1-9*IQR\n",
    "    Upper_Whisker = Q3+9*IQR\n",
    "    return Lower_Whisker,Upper_Whisker\n",
    "def plot_feature_importance(importance,names,model_type):\n",
    "\n",
    "    #Create arrays from feature importance and feature names\n",
    "    feature_importance = np.array(importance)\n",
    "    feature_names = np.array(names)\n",
    "\n",
    "    #Create a DataFrame using a Dictionary\n",
    "    data={'feature_names':feature_names,'feature_importance':feature_importance}\n",
    "    fi_df = pd.DataFrame(data)\n",
    "\n",
    "    #Sort the DataFrame in order decreasing feature importance\n",
    "    fi_df.sort_values(by=['feature_importance'], ascending=False,inplace=True)\n",
    "\n",
    "    #Define size of bar plot\n",
    "    plt.figure(figsize=(10,8))\n",
    "    #Plot Searborn bar chart\n",
    "    sns.barplot(x=fi_df['feature_importance'], y=fi_df['feature_names'])\n",
    "    #Add chart labels\n",
    "    plt.title(model_type + 'FEATURE IMPORTANCE')\n",
    "    plt.xlabel('FEATURE IMPORTANCE')\n",
    "    plt.ylabel('FEATURE NAMES')"
   ]
  },
  {
   "cell_type": "markdown",
   "metadata": {},
   "source": [
    "# Data preparation"
   ]
  },
  {
   "cell_type": "code",
   "execution_count": 5,
   "metadata": {},
   "outputs": [],
   "source": [
    "df= pd.read_csv('data/yellow_tripdata_2016-01.csv')"
   ]
  },
  {
   "cell_type": "code",
   "execution_count": 6,
   "metadata": {
    "scrolled": true
   },
   "outputs": [
    {
     "data": {
      "text/html": [
       "<div>\n",
       "<style scoped>\n",
       "    .dataframe tbody tr th:only-of-type {\n",
       "        vertical-align: middle;\n",
       "    }\n",
       "\n",
       "    .dataframe tbody tr th {\n",
       "        vertical-align: top;\n",
       "    }\n",
       "\n",
       "    .dataframe thead th {\n",
       "        text-align: right;\n",
       "    }\n",
       "</style>\n",
       "<table border=\"1\" class=\"dataframe\">\n",
       "  <thead>\n",
       "    <tr style=\"text-align: right;\">\n",
       "      <th></th>\n",
       "      <th>VendorID</th>\n",
       "      <th>tpep_pickup_datetime</th>\n",
       "      <th>tpep_dropoff_datetime</th>\n",
       "      <th>passenger_count</th>\n",
       "      <th>trip_distance</th>\n",
       "      <th>pickup_longitude</th>\n",
       "      <th>pickup_latitude</th>\n",
       "      <th>RatecodeID</th>\n",
       "      <th>store_and_fwd_flag</th>\n",
       "      <th>dropoff_longitude</th>\n",
       "      <th>dropoff_latitude</th>\n",
       "      <th>payment_type</th>\n",
       "      <th>fare_amount</th>\n",
       "      <th>extra</th>\n",
       "      <th>mta_tax</th>\n",
       "      <th>tip_amount</th>\n",
       "      <th>tolls_amount</th>\n",
       "      <th>improvement_surcharge</th>\n",
       "      <th>total_amount</th>\n",
       "    </tr>\n",
       "  </thead>\n",
       "  <tbody>\n",
       "    <tr>\n",
       "      <th>0</th>\n",
       "      <td>2</td>\n",
       "      <td>2016-01-01 00:00:00</td>\n",
       "      <td>2016-01-01 00:00:00</td>\n",
       "      <td>2</td>\n",
       "      <td>1.10</td>\n",
       "      <td>-73.990372</td>\n",
       "      <td>40.734695</td>\n",
       "      <td>1</td>\n",
       "      <td>N</td>\n",
       "      <td>-73.981842</td>\n",
       "      <td>40.732407</td>\n",
       "      <td>2</td>\n",
       "      <td>7.5</td>\n",
       "      <td>0.5</td>\n",
       "      <td>0.5</td>\n",
       "      <td>0.0</td>\n",
       "      <td>0.0</td>\n",
       "      <td>0.3</td>\n",
       "      <td>8.8</td>\n",
       "    </tr>\n",
       "    <tr>\n",
       "      <th>1</th>\n",
       "      <td>2</td>\n",
       "      <td>2016-01-01 00:00:00</td>\n",
       "      <td>2016-01-01 00:00:00</td>\n",
       "      <td>5</td>\n",
       "      <td>4.90</td>\n",
       "      <td>-73.980782</td>\n",
       "      <td>40.729912</td>\n",
       "      <td>1</td>\n",
       "      <td>N</td>\n",
       "      <td>-73.944473</td>\n",
       "      <td>40.716679</td>\n",
       "      <td>1</td>\n",
       "      <td>18.0</td>\n",
       "      <td>0.5</td>\n",
       "      <td>0.5</td>\n",
       "      <td>0.0</td>\n",
       "      <td>0.0</td>\n",
       "      <td>0.3</td>\n",
       "      <td>19.3</td>\n",
       "    </tr>\n",
       "    <tr>\n",
       "      <th>2</th>\n",
       "      <td>2</td>\n",
       "      <td>2016-01-01 00:00:00</td>\n",
       "      <td>2016-01-01 00:00:00</td>\n",
       "      <td>1</td>\n",
       "      <td>10.54</td>\n",
       "      <td>-73.984550</td>\n",
       "      <td>40.679565</td>\n",
       "      <td>1</td>\n",
       "      <td>N</td>\n",
       "      <td>-73.950272</td>\n",
       "      <td>40.788925</td>\n",
       "      <td>1</td>\n",
       "      <td>33.0</td>\n",
       "      <td>0.5</td>\n",
       "      <td>0.5</td>\n",
       "      <td>0.0</td>\n",
       "      <td>0.0</td>\n",
       "      <td>0.3</td>\n",
       "      <td>34.3</td>\n",
       "    </tr>\n",
       "    <tr>\n",
       "      <th>3</th>\n",
       "      <td>2</td>\n",
       "      <td>2016-01-01 00:00:00</td>\n",
       "      <td>2016-01-01 00:00:00</td>\n",
       "      <td>1</td>\n",
       "      <td>4.75</td>\n",
       "      <td>-73.993469</td>\n",
       "      <td>40.718990</td>\n",
       "      <td>1</td>\n",
       "      <td>N</td>\n",
       "      <td>-73.962242</td>\n",
       "      <td>40.657333</td>\n",
       "      <td>2</td>\n",
       "      <td>16.5</td>\n",
       "      <td>0.0</td>\n",
       "      <td>0.5</td>\n",
       "      <td>0.0</td>\n",
       "      <td>0.0</td>\n",
       "      <td>0.3</td>\n",
       "      <td>17.3</td>\n",
       "    </tr>\n",
       "    <tr>\n",
       "      <th>4</th>\n",
       "      <td>2</td>\n",
       "      <td>2016-01-01 00:00:00</td>\n",
       "      <td>2016-01-01 00:00:00</td>\n",
       "      <td>3</td>\n",
       "      <td>1.76</td>\n",
       "      <td>-73.960625</td>\n",
       "      <td>40.781330</td>\n",
       "      <td>1</td>\n",
       "      <td>N</td>\n",
       "      <td>-73.977264</td>\n",
       "      <td>40.758514</td>\n",
       "      <td>2</td>\n",
       "      <td>8.0</td>\n",
       "      <td>0.0</td>\n",
       "      <td>0.5</td>\n",
       "      <td>0.0</td>\n",
       "      <td>0.0</td>\n",
       "      <td>0.3</td>\n",
       "      <td>8.8</td>\n",
       "    </tr>\n",
       "  </tbody>\n",
       "</table>\n",
       "</div>"
      ],
      "text/plain": [
       "   VendorID tpep_pickup_datetime tpep_dropoff_datetime  passenger_count  \\\n",
       "0         2  2016-01-01 00:00:00   2016-01-01 00:00:00                2   \n",
       "1         2  2016-01-01 00:00:00   2016-01-01 00:00:00                5   \n",
       "2         2  2016-01-01 00:00:00   2016-01-01 00:00:00                1   \n",
       "3         2  2016-01-01 00:00:00   2016-01-01 00:00:00                1   \n",
       "4         2  2016-01-01 00:00:00   2016-01-01 00:00:00                3   \n",
       "\n",
       "   trip_distance  pickup_longitude  pickup_latitude  RatecodeID  \\\n",
       "0           1.10        -73.990372        40.734695           1   \n",
       "1           4.90        -73.980782        40.729912           1   \n",
       "2          10.54        -73.984550        40.679565           1   \n",
       "3           4.75        -73.993469        40.718990           1   \n",
       "4           1.76        -73.960625        40.781330           1   \n",
       "\n",
       "  store_and_fwd_flag  dropoff_longitude  dropoff_latitude  payment_type  \\\n",
       "0                  N         -73.981842         40.732407             2   \n",
       "1                  N         -73.944473         40.716679             1   \n",
       "2                  N         -73.950272         40.788925             1   \n",
       "3                  N         -73.962242         40.657333             2   \n",
       "4                  N         -73.977264         40.758514             2   \n",
       "\n",
       "   fare_amount  extra  mta_tax  tip_amount  tolls_amount  \\\n",
       "0          7.5    0.5      0.5         0.0           0.0   \n",
       "1         18.0    0.5      0.5         0.0           0.0   \n",
       "2         33.0    0.5      0.5         0.0           0.0   \n",
       "3         16.5    0.0      0.5         0.0           0.0   \n",
       "4          8.0    0.0      0.5         0.0           0.0   \n",
       "\n",
       "   improvement_surcharge  total_amount  \n",
       "0                    0.3           8.8  \n",
       "1                    0.3          19.3  \n",
       "2                    0.3          34.3  \n",
       "3                    0.3          17.3  \n",
       "4                    0.3           8.8  "
      ]
     },
     "execution_count": 6,
     "metadata": {},
     "output_type": "execute_result"
    }
   ],
   "source": [
    "df.head(5)"
   ]
  },
  {
   "cell_type": "markdown",
   "metadata": {},
   "source": [
    "## A. Handle missing values"
   ]
  },
  {
   "cell_type": "code",
   "execution_count": 7,
   "metadata": {
    "scrolled": true
   },
   "outputs": [
    {
     "data": {
      "text/plain": [
       "VendorID                 0\n",
       "tpep_pickup_datetime     0\n",
       "tpep_dropoff_datetime    0\n",
       "passenger_count          0\n",
       "trip_distance            0\n",
       "pickup_longitude         0\n",
       "pickup_latitude          0\n",
       "RatecodeID               0\n",
       "store_and_fwd_flag       0\n",
       "dropoff_longitude        0\n",
       "dropoff_latitude         0\n",
       "payment_type             0\n",
       "fare_amount              0\n",
       "extra                    0\n",
       "mta_tax                  0\n",
       "tip_amount               0\n",
       "tolls_amount             0\n",
       "improvement_surcharge    0\n",
       "total_amount             0\n",
       "dtype: int64"
      ]
     },
     "execution_count": 7,
     "metadata": {},
     "output_type": "execute_result"
    }
   ],
   "source": [
    "df.isna().sum()"
   ]
  },
  {
   "cell_type": "markdown",
   "metadata": {},
   "source": [
    "Conclusion: there is no missing value for any columns. So we don't need to deal with any missing value"
   ]
  },
  {
   "cell_type": "markdown",
   "metadata": {},
   "source": [
    "## B. first feature engineering"
   ]
  },
  {
   "cell_type": "code",
   "execution_count": 8,
   "metadata": {
    "scrolled": true
   },
   "outputs": [],
   "source": [
    "#add the trip duration\n",
    "df['trip_duration'] = (pd.to_datetime(df['tpep_dropoff_datetime'])-pd.to_datetime(df['tpep_pickup_datetime'])).dt.total_seconds()*(1/3600)"
   ]
  },
  {
   "cell_type": "code",
   "execution_count": 9,
   "metadata": {},
   "outputs": [],
   "source": [
    "#add the pickup date/hour/weekday\n",
    "df['pickup_date'] = pd.to_datetime(df['tpep_pickup_datetime']).dt.date\n",
    "df['pickup_weekday'] = pd.to_datetime(df['tpep_pickup_datetime']).dt.weekday\n",
    "df['pickup_hour'] = pd.to_datetime(df['tpep_pickup_datetime']).dt.hour"
   ]
  },
  {
   "cell_type": "code",
   "execution_count": 10,
   "metadata": {},
   "outputs": [],
   "source": [
    "#add the speed \n",
    "df['trip_speed'] = df['trip_distance']/df['trip_duration']"
   ]
  },
  {
   "cell_type": "code",
   "execution_count": 11,
   "metadata": {},
   "outputs": [],
   "source": [
    "#add the pickup/dropoff_locationid\n",
    "#hash the longitude and latitude into hashcode with length of 5\n",
    "df['pickup_hash'] = df.apply(lambda x: gh.encode(x.pickup_latitude, x.pickup_longitude, precision=5), axis=1)\n",
    "df['dropoff_hash'] = df.apply(lambda x: gh.encode(x.dropoff_latitude, x.dropoff_longitude, precision=5), axis=1)\n",
    "#Use labelencoder to transform hashcode into numeric label\n",
    "le = preprocessing.LabelEncoder()\n",
    "df['pickup_locationid'] = le.fit_transform(df['pickup_hash'])\n",
    "df['dropoff_locationid'] = le.fit_transform(df['dropoff_hash'])"
   ]
  },
  {
   "cell_type": "code",
   "execution_count": 12,
   "metadata": {},
   "outputs": [],
   "source": [
    "df_copy = df"
   ]
  },
  {
   "cell_type": "code",
   "execution_count": 429,
   "metadata": {
    "scrolled": false
   },
   "outputs": [
    {
     "data": {
      "text/html": [
       "<div>\n",
       "<style scoped>\n",
       "    .dataframe tbody tr th:only-of-type {\n",
       "        vertical-align: middle;\n",
       "    }\n",
       "\n",
       "    .dataframe tbody tr th {\n",
       "        vertical-align: top;\n",
       "    }\n",
       "\n",
       "    .dataframe thead th {\n",
       "        text-align: right;\n",
       "    }\n",
       "</style>\n",
       "<table border=\"1\" class=\"dataframe\">\n",
       "  <thead>\n",
       "    <tr style=\"text-align: right;\">\n",
       "      <th></th>\n",
       "      <th>VendorID</th>\n",
       "      <th>tpep_pickup_datetime</th>\n",
       "      <th>tpep_dropoff_datetime</th>\n",
       "      <th>passenger_count</th>\n",
       "      <th>trip_distance</th>\n",
       "      <th>pickup_longitude</th>\n",
       "      <th>pickup_latitude</th>\n",
       "      <th>RatecodeID</th>\n",
       "      <th>store_and_fwd_flag</th>\n",
       "      <th>dropoff_longitude</th>\n",
       "      <th>...</th>\n",
       "      <th>total_amount</th>\n",
       "      <th>trip_duration</th>\n",
       "      <th>pickup_date</th>\n",
       "      <th>pickup_weekday</th>\n",
       "      <th>pickup_hour</th>\n",
       "      <th>trip_speed</th>\n",
       "      <th>pickup_hash</th>\n",
       "      <th>dropoff_hash</th>\n",
       "      <th>pickup_locationid</th>\n",
       "      <th>dropoff_locationid</th>\n",
       "    </tr>\n",
       "  </thead>\n",
       "  <tbody>\n",
       "    <tr>\n",
       "      <th>0</th>\n",
       "      <td>2</td>\n",
       "      <td>2016-01-01 00:00:00</td>\n",
       "      <td>2016-01-01 00:00:00</td>\n",
       "      <td>2</td>\n",
       "      <td>1.10</td>\n",
       "      <td>-73.990372</td>\n",
       "      <td>40.734695</td>\n",
       "      <td>1</td>\n",
       "      <td>N</td>\n",
       "      <td>-73.981842</td>\n",
       "      <td>...</td>\n",
       "      <td>8.8</td>\n",
       "      <td>0.000000</td>\n",
       "      <td>2016-01-01</td>\n",
       "      <td>4</td>\n",
       "      <td>0</td>\n",
       "      <td>inf</td>\n",
       "      <td>dr5rs</td>\n",
       "      <td>dr5rs</td>\n",
       "      <td>203</td>\n",
       "      <td>263</td>\n",
       "    </tr>\n",
       "    <tr>\n",
       "      <th>1</th>\n",
       "      <td>2</td>\n",
       "      <td>2016-01-01 00:00:00</td>\n",
       "      <td>2016-01-01 00:00:00</td>\n",
       "      <td>5</td>\n",
       "      <td>4.90</td>\n",
       "      <td>-73.980782</td>\n",
       "      <td>40.729912</td>\n",
       "      <td>1</td>\n",
       "      <td>N</td>\n",
       "      <td>-73.944473</td>\n",
       "      <td>...</td>\n",
       "      <td>19.3</td>\n",
       "      <td>0.000000</td>\n",
       "      <td>2016-01-01</td>\n",
       "      <td>4</td>\n",
       "      <td>0</td>\n",
       "      <td>inf</td>\n",
       "      <td>dr5rs</td>\n",
       "      <td>dr5rt</td>\n",
       "      <td>203</td>\n",
       "      <td>264</td>\n",
       "    </tr>\n",
       "    <tr>\n",
       "      <th>2</th>\n",
       "      <td>2</td>\n",
       "      <td>2016-01-01 00:00:00</td>\n",
       "      <td>2016-01-01 00:00:00</td>\n",
       "      <td>1</td>\n",
       "      <td>10.54</td>\n",
       "      <td>-73.984550</td>\n",
       "      <td>40.679565</td>\n",
       "      <td>1</td>\n",
       "      <td>N</td>\n",
       "      <td>-73.950272</td>\n",
       "      <td>...</td>\n",
       "      <td>34.3</td>\n",
       "      <td>0.000000</td>\n",
       "      <td>2016-01-01</td>\n",
       "      <td>4</td>\n",
       "      <td>0</td>\n",
       "      <td>inf</td>\n",
       "      <td>dr5rk</td>\n",
       "      <td>dr72j</td>\n",
       "      <td>197</td>\n",
       "      <td>410</td>\n",
       "    </tr>\n",
       "    <tr>\n",
       "      <th>3</th>\n",
       "      <td>2</td>\n",
       "      <td>2016-01-01 00:00:00</td>\n",
       "      <td>2016-01-01 00:00:00</td>\n",
       "      <td>1</td>\n",
       "      <td>4.75</td>\n",
       "      <td>-73.993469</td>\n",
       "      <td>40.718990</td>\n",
       "      <td>1</td>\n",
       "      <td>N</td>\n",
       "      <td>-73.962242</td>\n",
       "      <td>...</td>\n",
       "      <td>17.3</td>\n",
       "      <td>0.000000</td>\n",
       "      <td>2016-01-01</td>\n",
       "      <td>4</td>\n",
       "      <td>0</td>\n",
       "      <td>inf</td>\n",
       "      <td>dr5rs</td>\n",
       "      <td>dr5rk</td>\n",
       "      <td>203</td>\n",
       "      <td>257</td>\n",
       "    </tr>\n",
       "    <tr>\n",
       "      <th>4</th>\n",
       "      <td>2</td>\n",
       "      <td>2016-01-01 00:00:00</td>\n",
       "      <td>2016-01-01 00:00:00</td>\n",
       "      <td>3</td>\n",
       "      <td>1.76</td>\n",
       "      <td>-73.960625</td>\n",
       "      <td>40.781330</td>\n",
       "      <td>1</td>\n",
       "      <td>N</td>\n",
       "      <td>-73.977264</td>\n",
       "      <td>...</td>\n",
       "      <td>8.8</td>\n",
       "      <td>0.000000</td>\n",
       "      <td>2016-01-01</td>\n",
       "      <td>4</td>\n",
       "      <td>0</td>\n",
       "      <td>inf</td>\n",
       "      <td>dr72h</td>\n",
       "      <td>dr5ru</td>\n",
       "      <td>331</td>\n",
       "      <td>265</td>\n",
       "    </tr>\n",
       "    <tr>\n",
       "      <th>5</th>\n",
       "      <td>2</td>\n",
       "      <td>2016-01-01 00:00:00</td>\n",
       "      <td>2016-01-01 00:18:30</td>\n",
       "      <td>2</td>\n",
       "      <td>5.52</td>\n",
       "      <td>-73.980118</td>\n",
       "      <td>40.743050</td>\n",
       "      <td>1</td>\n",
       "      <td>N</td>\n",
       "      <td>-73.913490</td>\n",
       "      <td>...</td>\n",
       "      <td>20.3</td>\n",
       "      <td>0.308333</td>\n",
       "      <td>2016-01-01</td>\n",
       "      <td>4</td>\n",
       "      <td>0</td>\n",
       "      <td>17.902703</td>\n",
       "      <td>dr5ru</td>\n",
       "      <td>dr5ry</td>\n",
       "      <td>205</td>\n",
       "      <td>269</td>\n",
       "    </tr>\n",
       "    <tr>\n",
       "      <th>6</th>\n",
       "      <td>2</td>\n",
       "      <td>2016-01-01 00:00:00</td>\n",
       "      <td>2016-01-01 00:26:45</td>\n",
       "      <td>2</td>\n",
       "      <td>7.45</td>\n",
       "      <td>-73.994057</td>\n",
       "      <td>40.719990</td>\n",
       "      <td>1</td>\n",
       "      <td>N</td>\n",
       "      <td>-73.966362</td>\n",
       "      <td>...</td>\n",
       "      <td>27.3</td>\n",
       "      <td>0.445833</td>\n",
       "      <td>2016-01-01</td>\n",
       "      <td>4</td>\n",
       "      <td>0</td>\n",
       "      <td>16.710280</td>\n",
       "      <td>dr5rs</td>\n",
       "      <td>dr72h</td>\n",
       "      <td>203</td>\n",
       "      <td>409</td>\n",
       "    </tr>\n",
       "    <tr>\n",
       "      <th>7</th>\n",
       "      <td>1</td>\n",
       "      <td>2016-01-01 00:00:01</td>\n",
       "      <td>2016-01-01 00:11:55</td>\n",
       "      <td>1</td>\n",
       "      <td>1.20</td>\n",
       "      <td>-73.979424</td>\n",
       "      <td>40.744614</td>\n",
       "      <td>1</td>\n",
       "      <td>N</td>\n",
       "      <td>-73.992035</td>\n",
       "      <td>...</td>\n",
       "      <td>10.3</td>\n",
       "      <td>0.198333</td>\n",
       "      <td>2016-01-01</td>\n",
       "      <td>4</td>\n",
       "      <td>0</td>\n",
       "      <td>6.050420</td>\n",
       "      <td>dr5ru</td>\n",
       "      <td>dr5ru</td>\n",
       "      <td>205</td>\n",
       "      <td>265</td>\n",
       "    </tr>\n",
       "    <tr>\n",
       "      <th>8</th>\n",
       "      <td>1</td>\n",
       "      <td>2016-01-01 00:00:02</td>\n",
       "      <td>2016-01-01 00:11:14</td>\n",
       "      <td>1</td>\n",
       "      <td>6.00</td>\n",
       "      <td>-73.947151</td>\n",
       "      <td>40.791046</td>\n",
       "      <td>1</td>\n",
       "      <td>N</td>\n",
       "      <td>-73.920769</td>\n",
       "      <td>...</td>\n",
       "      <td>19.3</td>\n",
       "      <td>0.186667</td>\n",
       "      <td>2016-01-01</td>\n",
       "      <td>4</td>\n",
       "      <td>0</td>\n",
       "      <td>32.142857</td>\n",
       "      <td>dr72j</td>\n",
       "      <td>dr72m</td>\n",
       "      <td>332</td>\n",
       "      <td>412</td>\n",
       "    </tr>\n",
       "    <tr>\n",
       "      <th>9</th>\n",
       "      <td>2</td>\n",
       "      <td>2016-01-01 00:00:02</td>\n",
       "      <td>2016-01-01 00:11:08</td>\n",
       "      <td>1</td>\n",
       "      <td>3.21</td>\n",
       "      <td>-73.998344</td>\n",
       "      <td>40.723896</td>\n",
       "      <td>1</td>\n",
       "      <td>N</td>\n",
       "      <td>-73.995850</td>\n",
       "      <td>...</td>\n",
       "      <td>12.8</td>\n",
       "      <td>0.185000</td>\n",
       "      <td>2016-01-01</td>\n",
       "      <td>4</td>\n",
       "      <td>0</td>\n",
       "      <td>17.351351</td>\n",
       "      <td>dr5rs</td>\n",
       "      <td>dr5rk</td>\n",
       "      <td>203</td>\n",
       "      <td>257</td>\n",
       "    </tr>\n",
       "  </tbody>\n",
       "</table>\n",
       "<p>10 rows × 28 columns</p>\n",
       "</div>"
      ],
      "text/plain": [
       "   VendorID tpep_pickup_datetime tpep_dropoff_datetime  passenger_count  \\\n",
       "0         2  2016-01-01 00:00:00   2016-01-01 00:00:00                2   \n",
       "1         2  2016-01-01 00:00:00   2016-01-01 00:00:00                5   \n",
       "2         2  2016-01-01 00:00:00   2016-01-01 00:00:00                1   \n",
       "3         2  2016-01-01 00:00:00   2016-01-01 00:00:00                1   \n",
       "4         2  2016-01-01 00:00:00   2016-01-01 00:00:00                3   \n",
       "5         2  2016-01-01 00:00:00   2016-01-01 00:18:30                2   \n",
       "6         2  2016-01-01 00:00:00   2016-01-01 00:26:45                2   \n",
       "7         1  2016-01-01 00:00:01   2016-01-01 00:11:55                1   \n",
       "8         1  2016-01-01 00:00:02   2016-01-01 00:11:14                1   \n",
       "9         2  2016-01-01 00:00:02   2016-01-01 00:11:08                1   \n",
       "\n",
       "   trip_distance  pickup_longitude  pickup_latitude  RatecodeID  \\\n",
       "0           1.10        -73.990372        40.734695           1   \n",
       "1           4.90        -73.980782        40.729912           1   \n",
       "2          10.54        -73.984550        40.679565           1   \n",
       "3           4.75        -73.993469        40.718990           1   \n",
       "4           1.76        -73.960625        40.781330           1   \n",
       "5           5.52        -73.980118        40.743050           1   \n",
       "6           7.45        -73.994057        40.719990           1   \n",
       "7           1.20        -73.979424        40.744614           1   \n",
       "8           6.00        -73.947151        40.791046           1   \n",
       "9           3.21        -73.998344        40.723896           1   \n",
       "\n",
       "  store_and_fwd_flag  dropoff_longitude         ...          total_amount  \\\n",
       "0                  N         -73.981842         ...                   8.8   \n",
       "1                  N         -73.944473         ...                  19.3   \n",
       "2                  N         -73.950272         ...                  34.3   \n",
       "3                  N         -73.962242         ...                  17.3   \n",
       "4                  N         -73.977264         ...                   8.8   \n",
       "5                  N         -73.913490         ...                  20.3   \n",
       "6                  N         -73.966362         ...                  27.3   \n",
       "7                  N         -73.992035         ...                  10.3   \n",
       "8                  N         -73.920769         ...                  19.3   \n",
       "9                  N         -73.995850         ...                  12.8   \n",
       "\n",
       "   trip_duration  pickup_date  pickup_weekday  pickup_hour  trip_speed  \\\n",
       "0       0.000000   2016-01-01               4            0         inf   \n",
       "1       0.000000   2016-01-01               4            0         inf   \n",
       "2       0.000000   2016-01-01               4            0         inf   \n",
       "3       0.000000   2016-01-01               4            0         inf   \n",
       "4       0.000000   2016-01-01               4            0         inf   \n",
       "5       0.308333   2016-01-01               4            0   17.902703   \n",
       "6       0.445833   2016-01-01               4            0   16.710280   \n",
       "7       0.198333   2016-01-01               4            0    6.050420   \n",
       "8       0.186667   2016-01-01               4            0   32.142857   \n",
       "9       0.185000   2016-01-01               4            0   17.351351   \n",
       "\n",
       "   pickup_hash  dropoff_hash  pickup_locationid  dropoff_locationid  \n",
       "0        dr5rs         dr5rs                203                 263  \n",
       "1        dr5rs         dr5rt                203                 264  \n",
       "2        dr5rk         dr72j                197                 410  \n",
       "3        dr5rs         dr5rk                203                 257  \n",
       "4        dr72h         dr5ru                331                 265  \n",
       "5        dr5ru         dr5ry                205                 269  \n",
       "6        dr5rs         dr72h                203                 409  \n",
       "7        dr5ru         dr5ru                205                 265  \n",
       "8        dr72j         dr72m                332                 412  \n",
       "9        dr5rs         dr5rk                203                 257  \n",
       "\n",
       "[10 rows x 28 columns]"
      ]
     },
     "execution_count": 429,
     "metadata": {},
     "output_type": "execute_result"
    }
   ],
   "source": [
    "df.head(10)"
   ]
  },
  {
   "cell_type": "markdown",
   "metadata": {},
   "source": [
    "## C. Handle outliers"
   ]
  },
  {
   "cell_type": "markdown",
   "metadata": {},
   "source": [
    "### 1. check and remove unreasonable trip distance"
   ]
  },
  {
   "cell_type": "code",
   "execution_count": 436,
   "metadata": {
    "scrolled": true
   },
   "outputs": [
    {
     "data": {
      "image/png": "[encoded data removed]",
      "text/plain": [
       "<Figure size 432x288 with 1 Axes>"
      ]
     },
     "metadata": {
      "needs_background": "light"
     },
     "output_type": "display_data"
    }
   ],
   "source": [
    "\n",
    "sns.boxplot(data=df,x=df['trip_distance'])\n",
    "plt.show()"
   ]
  },
  {
   "cell_type": "code",
   "execution_count": 13,
   "metadata": {},
   "outputs": [],
   "source": [
    "lower,upper =  treat_outlier(df['trip_distance'])"
   ]
  },
  {
   "cell_type": "code",
   "execution_count": 14,
   "metadata": {
    "scrolled": true
   },
   "outputs": [
    {
     "name": "stdout",
     "output_type": "stream",
     "text": [
      "-17.72 21.799999999999997\n"
     ]
    }
   ],
   "source": [
    "print(lower,upper)"
   ]
  },
  {
   "cell_type": "code",
   "execution_count": 15,
   "metadata": {},
   "outputs": [
    {
     "data": {
      "text/plain": [
       "10906858"
      ]
     },
     "execution_count": 15,
     "metadata": {},
     "output_type": "execute_result"
    }
   ],
   "source": [
    "len(df)"
   ]
  },
  {
   "cell_type": "code",
   "execution_count": 16,
   "metadata": {
    "scrolled": false
   },
   "outputs": [],
   "source": [
    "#drop those observation with trip distance <=0 and >uppper\n",
    "\n",
    "df = df[(df['trip_distance']>0) & (df['trip_distance']<upper)]\n"
   ]
  },
  {
   "cell_type": "code",
   "execution_count": 17,
   "metadata": {
    "scrolled": false
   },
   "outputs": [
    {
     "name": "stdout",
     "output_type": "stream",
     "text": [
      "The shortest trip is 0.01, and the longest trip is 21.79\n"
     ]
    }
   ],
   "source": [
    "print ('The shortest trip is {}, and the longest trip is {}'.format(df['trip_distance'].min(),df['trip_distance'].max()))"
   ]
  },
  {
   "cell_type": "markdown",
   "metadata": {},
   "source": [
    "### 2. check and remove the unreasonable trip duration"
   ]
  },
  {
   "cell_type": "code",
   "execution_count": 18,
   "metadata": {},
   "outputs": [
    {
     "name": "stdout",
     "output_type": "stream",
     "text": [
      "The shortest duration is -0.7325, while the longest duration is 1998.545\n"
     ]
    }
   ],
   "source": [
    "\n",
    "print ('The shortest duration is {}, while the longest duration is {}'.format(df['trip_duration'].min(),df['trip_duration'].max()))"
   ]
  },
  {
   "cell_type": "code",
   "execution_count": 467,
   "metadata": {
    "scrolled": true
   },
   "outputs": [
    {
     "data": {
      "image/png": "[encoded data removed]",
      "text/plain": [
       "<Figure size 432x288 with 1 Axes>"
      ]
     },
     "metadata": {
      "needs_background": "light"
     },
     "output_type": "display_data"
    }
   ],
   "source": [
    "sns.boxplot(data=df,x=df['trip_distance'])\n",
    "plt.show()"
   ]
  },
  {
   "cell_type": "code",
   "execution_count": 19,
   "metadata": {
    "scrolled": true
   },
   "outputs": [
    {
     "name": "stdout",
     "output_type": "stream",
     "text": [
      "-1.4661111111111114 1.8536111111111113\n"
     ]
    }
   ],
   "source": [
    "lower,upper = treat_outlier(df['trip_duration'])\n",
    "print (lower,upper)"
   ]
  },
  {
   "cell_type": "code",
   "execution_count": 20,
   "metadata": {},
   "outputs": [
    {
     "name": "stdout",
     "output_type": "stream",
     "text": [
      "The shortest duration is 0.010277777777777778, while the longest duration is 23.999444444444446\n"
     ]
    }
   ],
   "source": [
    "#remove those trip has duration smaller than 30s and longer than 24 hours\n",
    "df = df[(df['trip_duration']>0.01)  & (df['trip_duration']<24)]\n",
    "print ('The shortest duration is {}, while the longest duration is {}'.format(df['trip_duration'].min(),df['trip_duration'].max()))"
   ]
  },
  {
   "cell_type": "code",
   "execution_count": 21,
   "metadata": {},
   "outputs": [
    {
     "data": {
      "text/plain": [
       "10800494"
      ]
     },
     "execution_count": 21,
     "metadata": {},
     "output_type": "execute_result"
    }
   ],
   "source": [
    "len(df)"
   ]
  },
  {
   "cell_type": "markdown",
   "metadata": {},
   "source": [
    "### 3. check and remove unreasonable speed"
   ]
  },
  {
   "cell_type": "code",
   "execution_count": 22,
   "metadata": {
    "scrolled": true
   },
   "outputs": [
    {
     "name": "stdout",
     "output_type": "stream",
     "text": [
      "The lowest speed is 0.0004171494785631518 m/h, while the highest speed is 2036.842105263158 m/h\n"
     ]
    }
   ],
   "source": [
    "\n",
    "print ('The lowest speed is {} m/h, while the highest speed is {} m/h'.format(df['trip_speed'].min(),df['trip_speed'].max()))"
   ]
  },
  {
   "cell_type": "code",
   "execution_count": 478,
   "metadata": {
    "scrolled": true
   },
   "outputs": [
    {
     "data": {
      "image/png": "[encoded data removed]",
      "text/plain": [
       "<Figure size 432x288 with 1 Axes>"
      ]
     },
     "metadata": {
      "needs_background": "light"
     },
     "output_type": "display_data"
    }
   ],
   "source": [
    "sns.boxplot(data=df,x=df['trip_speed'])\n",
    "plt.show()"
   ]
  },
  {
   "cell_type": "code",
   "execution_count": 23,
   "metadata": {},
   "outputs": [
    {
     "name": "stdout",
     "output_type": "stream",
     "text": [
      "The lowest speed is 5.000494315373208 m/h, while the highest speed is 99.69230769230771 m/h\n"
     ]
    }
   ],
   "source": [
    "#remove the trip with average speed <5mile/hour which is person walk speed, >100miles/hour which is a bit higher than the speed limit on highway\n",
    "df = df[(df['trip_speed']>5) & (df['trip_speed']<100)]\n",
    "print ('The lowest speed is {} m/h, while the highest speed is {} m/h'.format(df['trip_speed'].min(),df['trip_speed'].max()))"
   ]
  },
  {
   "cell_type": "code",
   "execution_count": 24,
   "metadata": {},
   "outputs": [
    {
     "data": {
      "text/plain": [
       "10246683"
      ]
     },
     "execution_count": 24,
     "metadata": {},
     "output_type": "execute_result"
    }
   ],
   "source": [
    "len(df)"
   ]
  },
  {
   "cell_type": "code",
   "execution_count": 25,
   "metadata": {},
   "outputs": [],
   "source": [
    "df_copy2 = df"
   ]
  },
  {
   "cell_type": "markdown",
   "metadata": {},
   "source": [
    "### 4. check the invalid pickup/ dropoff location"
   ]
  },
  {
   "cell_type": "code",
   "execution_count": null,
   "metadata": {},
   "outputs": [],
   "source": [
    "#check the pickup location on map\n",
    "gdf = geopandas.GeoDataFrame(df, geometry=geopandas.points_from_xy(df.pickup_longitude, df.pickup_latitude))\n",
    "print(gdf.head())\n",
    "world = geopandas.read_file(geopandas.datasets.get_path('naturalearth_lowres'))\n",
    "cities = geopandas.read_file(geopandas.datasets.get_path('naturalearth_cities'))\n",
    "# We restrict to N\n",
    "ax = world[world.continent == 'South America'].plot(color='white', edgecolor='black')\n",
    "\n",
    "# We can now plot our ``GeoDataFrame``.\n",
    "gdf.plot(ax=ax, color='red')\n",
    "\n",
    "plt.show()\n",
    "\n"
   ]
  },
  {
   "cell_type": "code",
   "execution_count": 26,
   "metadata": {},
   "outputs": [],
   "source": [
    "new_cols = ['VendorID',\n",
    " 'tpep_pickup_datetime',\n",
    " 'tpep_dropoff_datetime',\n",
    " 'passenger_count',\n",
    " 'trip_distance',\n",
    " 'pickup_longitude',\n",
    " 'pickup_latitude',\n",
    " 'RatecodeID',\n",
    " 'store_and_fwd_flag',\n",
    " 'dropoff_longitude',\n",
    " 'dropoff_latitude',\n",
    " 'payment_type',\n",
    " 'fare_amount',\n",
    " 'extra',\n",
    " 'mta_tax',\n",
    " 'tip_amount',\n",
    " 'tolls_amount',\n",
    " 'improvement_surcharge',\n",
    " 'total_amount',\n",
    " 'pickup_date',\n",
    " 'pickup_weekday',\n",
    " 'pickup_hour',\n",
    " 'trip_speed',\n",
    " 'pickup_hash',\n",
    " 'dropoff_hash',\n",
    " 'pickup_locationid',\n",
    " 'dropoff_locationid','trip_duration']"
   ]
  },
  {
   "cell_type": "code",
   "execution_count": 27,
   "metadata": {},
   "outputs": [],
   "source": [
    "df = df[new_cols]"
   ]
  },
  {
   "cell_type": "code",
   "execution_count": 28,
   "metadata": {},
   "outputs": [
    {
     "data": {
      "text/html": [
       "<div>\n",
       "<style scoped>\n",
       "    .dataframe tbody tr th:only-of-type {\n",
       "        vertical-align: middle;\n",
       "    }\n",
       "\n",
       "    .dataframe tbody tr th {\n",
       "        vertical-align: top;\n",
       "    }\n",
       "\n",
       "    .dataframe thead th {\n",
       "        text-align: right;\n",
       "    }\n",
       "</style>\n",
       "<table border=\"1\" class=\"dataframe\">\n",
       "  <thead>\n",
       "    <tr style=\"text-align: right;\">\n",
       "      <th></th>\n",
       "      <th>VendorID</th>\n",
       "      <th>tpep_pickup_datetime</th>\n",
       "      <th>tpep_dropoff_datetime</th>\n",
       "      <th>passenger_count</th>\n",
       "      <th>trip_distance</th>\n",
       "      <th>pickup_longitude</th>\n",
       "      <th>pickup_latitude</th>\n",
       "      <th>RatecodeID</th>\n",
       "      <th>store_and_fwd_flag</th>\n",
       "      <th>dropoff_longitude</th>\n",
       "      <th>...</th>\n",
       "      <th>total_amount</th>\n",
       "      <th>pickup_date</th>\n",
       "      <th>pickup_weekday</th>\n",
       "      <th>pickup_hour</th>\n",
       "      <th>trip_speed</th>\n",
       "      <th>pickup_hash</th>\n",
       "      <th>dropoff_hash</th>\n",
       "      <th>pickup_locationid</th>\n",
       "      <th>dropoff_locationid</th>\n",
       "      <th>trip_duration</th>\n",
       "    </tr>\n",
       "  </thead>\n",
       "  <tbody>\n",
       "    <tr>\n",
       "      <th>5</th>\n",
       "      <td>2</td>\n",
       "      <td>2016-01-01 00:00:00</td>\n",
       "      <td>2016-01-01 00:18:30</td>\n",
       "      <td>2</td>\n",
       "      <td>5.52</td>\n",
       "      <td>-73.980118</td>\n",
       "      <td>40.743050</td>\n",
       "      <td>1</td>\n",
       "      <td>N</td>\n",
       "      <td>-73.913490</td>\n",
       "      <td>...</td>\n",
       "      <td>20.3</td>\n",
       "      <td>2016-01-01</td>\n",
       "      <td>4</td>\n",
       "      <td>0</td>\n",
       "      <td>17.902703</td>\n",
       "      <td>dr5ru</td>\n",
       "      <td>dr5ry</td>\n",
       "      <td>205</td>\n",
       "      <td>269</td>\n",
       "      <td>0.308333</td>\n",
       "    </tr>\n",
       "    <tr>\n",
       "      <th>6</th>\n",
       "      <td>2</td>\n",
       "      <td>2016-01-01 00:00:00</td>\n",
       "      <td>2016-01-01 00:26:45</td>\n",
       "      <td>2</td>\n",
       "      <td>7.45</td>\n",
       "      <td>-73.994057</td>\n",
       "      <td>40.719990</td>\n",
       "      <td>1</td>\n",
       "      <td>N</td>\n",
       "      <td>-73.966362</td>\n",
       "      <td>...</td>\n",
       "      <td>27.3</td>\n",
       "      <td>2016-01-01</td>\n",
       "      <td>4</td>\n",
       "      <td>0</td>\n",
       "      <td>16.710280</td>\n",
       "      <td>dr5rs</td>\n",
       "      <td>dr72h</td>\n",
       "      <td>203</td>\n",
       "      <td>409</td>\n",
       "      <td>0.445833</td>\n",
       "    </tr>\n",
       "    <tr>\n",
       "      <th>7</th>\n",
       "      <td>1</td>\n",
       "      <td>2016-01-01 00:00:01</td>\n",
       "      <td>2016-01-01 00:11:55</td>\n",
       "      <td>1</td>\n",
       "      <td>1.20</td>\n",
       "      <td>-73.979424</td>\n",
       "      <td>40.744614</td>\n",
       "      <td>1</td>\n",
       "      <td>N</td>\n",
       "      <td>-73.992035</td>\n",
       "      <td>...</td>\n",
       "      <td>10.3</td>\n",
       "      <td>2016-01-01</td>\n",
       "      <td>4</td>\n",
       "      <td>0</td>\n",
       "      <td>6.050420</td>\n",
       "      <td>dr5ru</td>\n",
       "      <td>dr5ru</td>\n",
       "      <td>205</td>\n",
       "      <td>265</td>\n",
       "      <td>0.198333</td>\n",
       "    </tr>\n",
       "    <tr>\n",
       "      <th>8</th>\n",
       "      <td>1</td>\n",
       "      <td>2016-01-01 00:00:02</td>\n",
       "      <td>2016-01-01 00:11:14</td>\n",
       "      <td>1</td>\n",
       "      <td>6.00</td>\n",
       "      <td>-73.947151</td>\n",
       "      <td>40.791046</td>\n",
       "      <td>1</td>\n",
       "      <td>N</td>\n",
       "      <td>-73.920769</td>\n",
       "      <td>...</td>\n",
       "      <td>19.3</td>\n",
       "      <td>2016-01-01</td>\n",
       "      <td>4</td>\n",
       "      <td>0</td>\n",
       "      <td>32.142857</td>\n",
       "      <td>dr72j</td>\n",
       "      <td>dr72m</td>\n",
       "      <td>332</td>\n",
       "      <td>412</td>\n",
       "      <td>0.186667</td>\n",
       "    </tr>\n",
       "    <tr>\n",
       "      <th>9</th>\n",
       "      <td>2</td>\n",
       "      <td>2016-01-01 00:00:02</td>\n",
       "      <td>2016-01-01 00:11:08</td>\n",
       "      <td>1</td>\n",
       "      <td>3.21</td>\n",
       "      <td>-73.998344</td>\n",
       "      <td>40.723896</td>\n",
       "      <td>1</td>\n",
       "      <td>N</td>\n",
       "      <td>-73.995850</td>\n",
       "      <td>...</td>\n",
       "      <td>12.8</td>\n",
       "      <td>2016-01-01</td>\n",
       "      <td>4</td>\n",
       "      <td>0</td>\n",
       "      <td>17.351351</td>\n",
       "      <td>dr5rs</td>\n",
       "      <td>dr5rk</td>\n",
       "      <td>203</td>\n",
       "      <td>257</td>\n",
       "      <td>0.185000</td>\n",
       "    </tr>\n",
       "  </tbody>\n",
       "</table>\n",
       "<p>5 rows × 28 columns</p>\n",
       "</div>"
      ],
      "text/plain": [
       "   VendorID tpep_pickup_datetime tpep_dropoff_datetime  passenger_count  \\\n",
       "5         2  2016-01-01 00:00:00   2016-01-01 00:18:30                2   \n",
       "6         2  2016-01-01 00:00:00   2016-01-01 00:26:45                2   \n",
       "7         1  2016-01-01 00:00:01   2016-01-01 00:11:55                1   \n",
       "8         1  2016-01-01 00:00:02   2016-01-01 00:11:14                1   \n",
       "9         2  2016-01-01 00:00:02   2016-01-01 00:11:08                1   \n",
       "\n",
       "   trip_distance  pickup_longitude  pickup_latitude  RatecodeID  \\\n",
       "5           5.52        -73.980118        40.743050           1   \n",
       "6           7.45        -73.994057        40.719990           1   \n",
       "7           1.20        -73.979424        40.744614           1   \n",
       "8           6.00        -73.947151        40.791046           1   \n",
       "9           3.21        -73.998344        40.723896           1   \n",
       "\n",
       "  store_and_fwd_flag  dropoff_longitude      ...       total_amount  \\\n",
       "5                  N         -73.913490      ...               20.3   \n",
       "6                  N         -73.966362      ...               27.3   \n",
       "7                  N         -73.992035      ...               10.3   \n",
       "8                  N         -73.920769      ...               19.3   \n",
       "9                  N         -73.995850      ...               12.8   \n",
       "\n",
       "   pickup_date  pickup_weekday  pickup_hour  trip_speed  pickup_hash  \\\n",
       "5   2016-01-01               4            0   17.902703        dr5ru   \n",
       "6   2016-01-01               4            0   16.710280        dr5rs   \n",
       "7   2016-01-01               4            0    6.050420        dr5ru   \n",
       "8   2016-01-01               4            0   32.142857        dr72j   \n",
       "9   2016-01-01               4            0   17.351351        dr5rs   \n",
       "\n",
       "   dropoff_hash  pickup_locationid  dropoff_locationid trip_duration  \n",
       "5         dr5ry                205                 269      0.308333  \n",
       "6         dr72h                203                 409      0.445833  \n",
       "7         dr5ru                205                 265      0.198333  \n",
       "8         dr72m                332                 412      0.186667  \n",
       "9         dr5rk                203                 257      0.185000  \n",
       "\n",
       "[5 rows x 28 columns]"
      ]
     },
     "execution_count": 28,
     "metadata": {},
     "output_type": "execute_result"
    }
   ],
   "source": [
    "df.head()"
   ]
  },
  {
   "cell_type": "markdown",
   "metadata": {},
   "source": [
    "#assumptions:\n",
    "All the numeric attributes can not be negative. This operation remove all the invalid transaction, such as refund or cancellation."
   ]
  },
  {
   "cell_type": "markdown",
   "metadata": {},
   "source": [
    "## D. Split the dataset into training, validation and test"
   ]
  },
  {
   "cell_type": "code",
   "execution_count": 29,
   "metadata": {},
   "outputs": [
    {
     "name": "stdout",
     "output_type": "stream",
     "text": [
      "Split the data into training set with size of 6148009, validation set with size of 2049337, test set with size of 2049337\n"
     ]
    }
   ],
   "source": [
    "#split the data into training, evalution and test\n",
    "data = df\n",
    "data_train, data_test = train_test_split(data, test_size=0.4, random_state=42)\n",
    "data_validation,data_test = train_test_split(data_test, test_size=0.5, random_state=43)\n",
    "print('Split the data into training set with size of {}, validation set with size of {}, test set with size of {}'.format(len(data_train), len(data_validation), len(data_test)))"
   ]
  },
  {
   "cell_type": "code",
   "execution_count": 30,
   "metadata": {},
   "outputs": [],
   "source": [
    "#save to csv\n",
    "data_train.to_csv('data/data-training.csv', index = False)\n",
    "data_validation.to_csv('data/data-validation.csv', index = False)\n",
    "data_test.to_csv('data/data-test.csv', index = False)"
   ]
  },
  {
   "cell_type": "markdown",
   "metadata": {},
   "source": [
    "# Exploratory Data Analysis"
   ]
  },
  {
   "cell_type": "code",
   "execution_count": 31,
   "metadata": {},
   "outputs": [],
   "source": [
    "#load the prepared training dataset\n",
    "training_df = pd.read_csv('data/data-training.csv')"
   ]
  },
  {
   "cell_type": "code",
   "execution_count": 101,
   "metadata": {
    "scrolled": true
   },
   "outputs": [
    {
     "data": {
      "text/html": [
       "<div>\n",
       "<style scoped>\n",
       "    .dataframe tbody tr th:only-of-type {\n",
       "        vertical-align: middle;\n",
       "    }\n",
       "\n",
       "    .dataframe tbody tr th {\n",
       "        vertical-align: top;\n",
       "    }\n",
       "\n",
       "    .dataframe thead th {\n",
       "        text-align: right;\n",
       "    }\n",
       "</style>\n",
       "<table border=\"1\" class=\"dataframe\">\n",
       "  <thead>\n",
       "    <tr style=\"text-align: right;\">\n",
       "      <th></th>\n",
       "      <th>VendorID</th>\n",
       "      <th>pickup_locationid</th>\n",
       "      <th>dropoff_locationid</th>\n",
       "      <th>pickup_date</th>\n",
       "      <th>pickup_weekday</th>\n",
       "      <th>pickup_hour</th>\n",
       "      <th>trip_speed</th>\n",
       "      <th>passenger_count</th>\n",
       "      <th>trip_distance</th>\n",
       "      <th>trip_duration</th>\n",
       "      <th>pickup_day</th>\n",
       "    </tr>\n",
       "  </thead>\n",
       "  <tbody>\n",
       "    <tr>\n",
       "      <th>0</th>\n",
       "      <td>1</td>\n",
       "      <td>210</td>\n",
       "      <td>265</td>\n",
       "      <td>2016-01-13</td>\n",
       "      <td>2</td>\n",
       "      <td>10</td>\n",
       "      <td>22.562674</td>\n",
       "      <td>1</td>\n",
       "      <td>9.00</td>\n",
       "      <td>0.398889</td>\n",
       "      <td>NaN</td>\n",
       "    </tr>\n",
       "    <tr>\n",
       "      <th>1</th>\n",
       "      <td>2</td>\n",
       "      <td>205</td>\n",
       "      <td>263</td>\n",
       "      <td>2016-01-08</td>\n",
       "      <td>4</td>\n",
       "      <td>8</td>\n",
       "      <td>8.109331</td>\n",
       "      <td>1</td>\n",
       "      <td>2.39</td>\n",
       "      <td>0.294722</td>\n",
       "      <td>NaN</td>\n",
       "    </tr>\n",
       "    <tr>\n",
       "      <th>2</th>\n",
       "      <td>2</td>\n",
       "      <td>205</td>\n",
       "      <td>266</td>\n",
       "      <td>2016-01-01</td>\n",
       "      <td>4</td>\n",
       "      <td>19</td>\n",
       "      <td>16.767123</td>\n",
       "      <td>1</td>\n",
       "      <td>1.02</td>\n",
       "      <td>0.060833</td>\n",
       "      <td>NaN</td>\n",
       "    </tr>\n",
       "    <tr>\n",
       "      <th>3</th>\n",
       "      <td>2</td>\n",
       "      <td>205</td>\n",
       "      <td>252</td>\n",
       "      <td>2016-01-31</td>\n",
       "      <td>6</td>\n",
       "      <td>19</td>\n",
       "      <td>8.081633</td>\n",
       "      <td>1</td>\n",
       "      <td>1.87</td>\n",
       "      <td>0.231389</td>\n",
       "      <td>NaN</td>\n",
       "    </tr>\n",
       "    <tr>\n",
       "      <th>4</th>\n",
       "      <td>1</td>\n",
       "      <td>205</td>\n",
       "      <td>263</td>\n",
       "      <td>2016-01-02</td>\n",
       "      <td>5</td>\n",
       "      <td>10</td>\n",
       "      <td>12.244898</td>\n",
       "      <td>1</td>\n",
       "      <td>1.00</td>\n",
       "      <td>0.081667</td>\n",
       "      <td>NaN</td>\n",
       "    </tr>\n",
       "    <tr>\n",
       "      <th>5</th>\n",
       "      <td>1</td>\n",
       "      <td>205</td>\n",
       "      <td>265</td>\n",
       "      <td>2016-01-30</td>\n",
       "      <td>5</td>\n",
       "      <td>16</td>\n",
       "      <td>11.148387</td>\n",
       "      <td>1</td>\n",
       "      <td>2.40</td>\n",
       "      <td>0.215278</td>\n",
       "      <td>1.0</td>\n",
       "    </tr>\n",
       "    <tr>\n",
       "      <th>6</th>\n",
       "      <td>1</td>\n",
       "      <td>205</td>\n",
       "      <td>409</td>\n",
       "      <td>2016-01-15</td>\n",
       "      <td>4</td>\n",
       "      <td>18</td>\n",
       "      <td>11.012658</td>\n",
       "      <td>2</td>\n",
       "      <td>2.90</td>\n",
       "      <td>0.263333</td>\n",
       "      <td>1.0</td>\n",
       "    </tr>\n",
       "    <tr>\n",
       "      <th>7</th>\n",
       "      <td>2</td>\n",
       "      <td>205</td>\n",
       "      <td>254</td>\n",
       "      <td>2016-01-11</td>\n",
       "      <td>0</td>\n",
       "      <td>8</td>\n",
       "      <td>6.120000</td>\n",
       "      <td>2</td>\n",
       "      <td>0.68</td>\n",
       "      <td>0.111111</td>\n",
       "      <td>1.0</td>\n",
       "    </tr>\n",
       "    <tr>\n",
       "      <th>8</th>\n",
       "      <td>1</td>\n",
       "      <td>210</td>\n",
       "      <td>265</td>\n",
       "      <td>2016-01-08</td>\n",
       "      <td>4</td>\n",
       "      <td>18</td>\n",
       "      <td>20.686922</td>\n",
       "      <td>1</td>\n",
       "      <td>8.70</td>\n",
       "      <td>0.420556</td>\n",
       "      <td>1.0</td>\n",
       "    </tr>\n",
       "    <tr>\n",
       "      <th>9</th>\n",
       "      <td>1</td>\n",
       "      <td>332</td>\n",
       "      <td>410</td>\n",
       "      <td>2016-01-06</td>\n",
       "      <td>2</td>\n",
       "      <td>17</td>\n",
       "      <td>11.732419</td>\n",
       "      <td>1</td>\n",
       "      <td>1.90</td>\n",
       "      <td>0.161944</td>\n",
       "      <td>1.0</td>\n",
       "    </tr>\n",
       "    <tr>\n",
       "      <th>10</th>\n",
       "      <td>2</td>\n",
       "      <td>203</td>\n",
       "      <td>254</td>\n",
       "      <td>2016-01-24</td>\n",
       "      <td>6</td>\n",
       "      <td>21</td>\n",
       "      <td>11.513126</td>\n",
       "      <td>1</td>\n",
       "      <td>1.34</td>\n",
       "      <td>0.116389</td>\n",
       "      <td>1.0</td>\n",
       "    </tr>\n",
       "    <tr>\n",
       "      <th>11</th>\n",
       "      <td>2</td>\n",
       "      <td>205</td>\n",
       "      <td>265</td>\n",
       "      <td>2016-01-21</td>\n",
       "      <td>3</td>\n",
       "      <td>8</td>\n",
       "      <td>6.387097</td>\n",
       "      <td>1</td>\n",
       "      <td>1.10</td>\n",
       "      <td>0.172222</td>\n",
       "      <td>1.0</td>\n",
       "    </tr>\n",
       "    <tr>\n",
       "      <th>12</th>\n",
       "      <td>2</td>\n",
       "      <td>331</td>\n",
       "      <td>265</td>\n",
       "      <td>2016-01-31</td>\n",
       "      <td>6</td>\n",
       "      <td>21</td>\n",
       "      <td>17.933416</td>\n",
       "      <td>1</td>\n",
       "      <td>4.04</td>\n",
       "      <td>0.225278</td>\n",
       "      <td>NaN</td>\n",
       "    </tr>\n",
       "    <tr>\n",
       "      <th>13</th>\n",
       "      <td>2</td>\n",
       "      <td>331</td>\n",
       "      <td>409</td>\n",
       "      <td>2016-01-19</td>\n",
       "      <td>1</td>\n",
       "      <td>13</td>\n",
       "      <td>12.643902</td>\n",
       "      <td>1</td>\n",
       "      <td>0.72</td>\n",
       "      <td>0.056944</td>\n",
       "      <td>1.0</td>\n",
       "    </tr>\n",
       "    <tr>\n",
       "      <th>14</th>\n",
       "      <td>1</td>\n",
       "      <td>194</td>\n",
       "      <td>409</td>\n",
       "      <td>2016-01-18</td>\n",
       "      <td>0</td>\n",
       "      <td>3</td>\n",
       "      <td>20.039761</td>\n",
       "      <td>4</td>\n",
       "      <td>5.60</td>\n",
       "      <td>0.279444</td>\n",
       "      <td>1.0</td>\n",
       "    </tr>\n",
       "    <tr>\n",
       "      <th>15</th>\n",
       "      <td>1</td>\n",
       "      <td>205</td>\n",
       "      <td>265</td>\n",
       "      <td>2016-01-14</td>\n",
       "      <td>3</td>\n",
       "      <td>17</td>\n",
       "      <td>7.926606</td>\n",
       "      <td>1</td>\n",
       "      <td>2.40</td>\n",
       "      <td>0.302778</td>\n",
       "      <td>NaN</td>\n",
       "    </tr>\n",
       "    <tr>\n",
       "      <th>16</th>\n",
       "      <td>2</td>\n",
       "      <td>203</td>\n",
       "      <td>286</td>\n",
       "      <td>2016-01-01</td>\n",
       "      <td>4</td>\n",
       "      <td>8</td>\n",
       "      <td>32.658153</td>\n",
       "      <td>5</td>\n",
       "      <td>18.47</td>\n",
       "      <td>0.565556</td>\n",
       "      <td>1.0</td>\n",
       "    </tr>\n",
       "    <tr>\n",
       "      <th>17</th>\n",
       "      <td>2</td>\n",
       "      <td>331</td>\n",
       "      <td>409</td>\n",
       "      <td>2016-01-26</td>\n",
       "      <td>1</td>\n",
       "      <td>12</td>\n",
       "      <td>10.807611</td>\n",
       "      <td>1</td>\n",
       "      <td>1.42</td>\n",
       "      <td>0.131389</td>\n",
       "      <td>1.0</td>\n",
       "    </tr>\n",
       "    <tr>\n",
       "      <th>18</th>\n",
       "      <td>2</td>\n",
       "      <td>203</td>\n",
       "      <td>263</td>\n",
       "      <td>2016-01-18</td>\n",
       "      <td>0</td>\n",
       "      <td>13</td>\n",
       "      <td>10.671429</td>\n",
       "      <td>1</td>\n",
       "      <td>0.83</td>\n",
       "      <td>0.077778</td>\n",
       "      <td>1.0</td>\n",
       "    </tr>\n",
       "    <tr>\n",
       "      <th>19</th>\n",
       "      <td>1</td>\n",
       "      <td>192</td>\n",
       "      <td>254</td>\n",
       "      <td>2016-01-30</td>\n",
       "      <td>5</td>\n",
       "      <td>7</td>\n",
       "      <td>12.857143</td>\n",
       "      <td>2</td>\n",
       "      <td>3.20</td>\n",
       "      <td>0.248889</td>\n",
       "      <td>1.0</td>\n",
       "    </tr>\n",
       "    <tr>\n",
       "      <th>20</th>\n",
       "      <td>1</td>\n",
       "      <td>205</td>\n",
       "      <td>263</td>\n",
       "      <td>2016-01-30</td>\n",
       "      <td>5</td>\n",
       "      <td>21</td>\n",
       "      <td>5.593536</td>\n",
       "      <td>1</td>\n",
       "      <td>2.50</td>\n",
       "      <td>0.446944</td>\n",
       "      <td>1.0</td>\n",
       "    </tr>\n",
       "    <tr>\n",
       "      <th>21</th>\n",
       "      <td>1</td>\n",
       "      <td>203</td>\n",
       "      <td>263</td>\n",
       "      <td>2016-01-28</td>\n",
       "      <td>3</td>\n",
       "      <td>21</td>\n",
       "      <td>11.412104</td>\n",
       "      <td>1</td>\n",
       "      <td>3.30</td>\n",
       "      <td>0.289167</td>\n",
       "      <td>1.0</td>\n",
       "    </tr>\n",
       "    <tr>\n",
       "      <th>22</th>\n",
       "      <td>2</td>\n",
       "      <td>206</td>\n",
       "      <td>265</td>\n",
       "      <td>2016-01-08</td>\n",
       "      <td>4</td>\n",
       "      <td>8</td>\n",
       "      <td>8.337662</td>\n",
       "      <td>1</td>\n",
       "      <td>3.21</td>\n",
       "      <td>0.385000</td>\n",
       "      <td>1.0</td>\n",
       "    </tr>\n",
       "    <tr>\n",
       "      <th>23</th>\n",
       "      <td>1</td>\n",
       "      <td>205</td>\n",
       "      <td>265</td>\n",
       "      <td>2016-01-11</td>\n",
       "      <td>0</td>\n",
       "      <td>18</td>\n",
       "      <td>8.634686</td>\n",
       "      <td>3</td>\n",
       "      <td>1.30</td>\n",
       "      <td>0.150556</td>\n",
       "      <td>1.0</td>\n",
       "    </tr>\n",
       "    <tr>\n",
       "      <th>24</th>\n",
       "      <td>2</td>\n",
       "      <td>206</td>\n",
       "      <td>410</td>\n",
       "      <td>2016-01-01</td>\n",
       "      <td>4</td>\n",
       "      <td>2</td>\n",
       "      <td>11.680851</td>\n",
       "      <td>5</td>\n",
       "      <td>1.22</td>\n",
       "      <td>0.104444</td>\n",
       "      <td>1.0</td>\n",
       "    </tr>\n",
       "    <tr>\n",
       "      <th>25</th>\n",
       "      <td>1</td>\n",
       "      <td>205</td>\n",
       "      <td>265</td>\n",
       "      <td>2016-01-16</td>\n",
       "      <td>5</td>\n",
       "      <td>22</td>\n",
       "      <td>10.896391</td>\n",
       "      <td>1</td>\n",
       "      <td>2.60</td>\n",
       "      <td>0.238611</td>\n",
       "      <td>1.0</td>\n",
       "    </tr>\n",
       "    <tr>\n",
       "      <th>26</th>\n",
       "      <td>1</td>\n",
       "      <td>205</td>\n",
       "      <td>265</td>\n",
       "      <td>2016-01-07</td>\n",
       "      <td>3</td>\n",
       "      <td>8</td>\n",
       "      <td>7.728086</td>\n",
       "      <td>1</td>\n",
       "      <td>1.20</td>\n",
       "      <td>0.155278</td>\n",
       "      <td>1.0</td>\n",
       "    </tr>\n",
       "    <tr>\n",
       "      <th>27</th>\n",
       "      <td>2</td>\n",
       "      <td>203</td>\n",
       "      <td>263</td>\n",
       "      <td>2016-01-02</td>\n",
       "      <td>5</td>\n",
       "      <td>2</td>\n",
       "      <td>6.428571</td>\n",
       "      <td>1</td>\n",
       "      <td>0.70</td>\n",
       "      <td>0.108889</td>\n",
       "      <td>1.0</td>\n",
       "    </tr>\n",
       "    <tr>\n",
       "      <th>28</th>\n",
       "      <td>2</td>\n",
       "      <td>205</td>\n",
       "      <td>265</td>\n",
       "      <td>2016-01-14</td>\n",
       "      <td>3</td>\n",
       "      <td>19</td>\n",
       "      <td>9.245283</td>\n",
       "      <td>2</td>\n",
       "      <td>2.45</td>\n",
       "      <td>0.265000</td>\n",
       "      <td>1.0</td>\n",
       "    </tr>\n",
       "    <tr>\n",
       "      <th>29</th>\n",
       "      <td>2</td>\n",
       "      <td>203</td>\n",
       "      <td>265</td>\n",
       "      <td>2016-01-29</td>\n",
       "      <td>4</td>\n",
       "      <td>20</td>\n",
       "      <td>9.889789</td>\n",
       "      <td>1</td>\n",
       "      <td>3.39</td>\n",
       "      <td>0.342778</td>\n",
       "      <td>1.0</td>\n",
       "    </tr>\n",
       "    <tr>\n",
       "      <th>...</th>\n",
       "      <td>...</td>\n",
       "      <td>...</td>\n",
       "      <td>...</td>\n",
       "      <td>...</td>\n",
       "      <td>...</td>\n",
       "      <td>...</td>\n",
       "      <td>...</td>\n",
       "      <td>...</td>\n",
       "      <td>...</td>\n",
       "      <td>...</td>\n",
       "      <td>...</td>\n",
       "    </tr>\n",
       "    <tr>\n",
       "      <th>970</th>\n",
       "      <td>2</td>\n",
       "      <td>206</td>\n",
       "      <td>409</td>\n",
       "      <td>2016-01-04</td>\n",
       "      <td>0</td>\n",
       "      <td>11</td>\n",
       "      <td>10.781726</td>\n",
       "      <td>1</td>\n",
       "      <td>2.36</td>\n",
       "      <td>0.218889</td>\n",
       "      <td>1.0</td>\n",
       "    </tr>\n",
       "    <tr>\n",
       "      <th>971</th>\n",
       "      <td>2</td>\n",
       "      <td>203</td>\n",
       "      <td>252</td>\n",
       "      <td>2016-01-08</td>\n",
       "      <td>4</td>\n",
       "      <td>23</td>\n",
       "      <td>9.291397</td>\n",
       "      <td>1</td>\n",
       "      <td>2.79</td>\n",
       "      <td>0.300278</td>\n",
       "      <td>1.0</td>\n",
       "    </tr>\n",
       "    <tr>\n",
       "      <th>972</th>\n",
       "      <td>2</td>\n",
       "      <td>203</td>\n",
       "      <td>265</td>\n",
       "      <td>2016-01-19</td>\n",
       "      <td>1</td>\n",
       "      <td>9</td>\n",
       "      <td>5.153226</td>\n",
       "      <td>1</td>\n",
       "      <td>0.71</td>\n",
       "      <td>0.137778</td>\n",
       "      <td>1.0</td>\n",
       "    </tr>\n",
       "    <tr>\n",
       "      <th>973</th>\n",
       "      <td>1</td>\n",
       "      <td>205</td>\n",
       "      <td>265</td>\n",
       "      <td>2016-01-06</td>\n",
       "      <td>2</td>\n",
       "      <td>2</td>\n",
       "      <td>8.181818</td>\n",
       "      <td>1</td>\n",
       "      <td>0.50</td>\n",
       "      <td>0.061111</td>\n",
       "      <td>1.0</td>\n",
       "    </tr>\n",
       "    <tr>\n",
       "      <th>974</th>\n",
       "      <td>1</td>\n",
       "      <td>205</td>\n",
       "      <td>266</td>\n",
       "      <td>2016-01-12</td>\n",
       "      <td>1</td>\n",
       "      <td>21</td>\n",
       "      <td>8.059701</td>\n",
       "      <td>1</td>\n",
       "      <td>0.60</td>\n",
       "      <td>0.074444</td>\n",
       "      <td>1.0</td>\n",
       "    </tr>\n",
       "    <tr>\n",
       "      <th>975</th>\n",
       "      <td>1</td>\n",
       "      <td>205</td>\n",
       "      <td>263</td>\n",
       "      <td>2016-01-07</td>\n",
       "      <td>3</td>\n",
       "      <td>22</td>\n",
       "      <td>9.383886</td>\n",
       "      <td>4</td>\n",
       "      <td>1.10</td>\n",
       "      <td>0.117222</td>\n",
       "      <td>1.0</td>\n",
       "    </tr>\n",
       "    <tr>\n",
       "      <th>976</th>\n",
       "      <td>2</td>\n",
       "      <td>331</td>\n",
       "      <td>409</td>\n",
       "      <td>2016-01-16</td>\n",
       "      <td>5</td>\n",
       "      <td>10</td>\n",
       "      <td>17.739130</td>\n",
       "      <td>1</td>\n",
       "      <td>1.02</td>\n",
       "      <td>0.057500</td>\n",
       "      <td>NaN</td>\n",
       "    </tr>\n",
       "    <tr>\n",
       "      <th>977</th>\n",
       "      <td>1</td>\n",
       "      <td>331</td>\n",
       "      <td>265</td>\n",
       "      <td>2016-01-29</td>\n",
       "      <td>4</td>\n",
       "      <td>10</td>\n",
       "      <td>8.265306</td>\n",
       "      <td>1</td>\n",
       "      <td>0.90</td>\n",
       "      <td>0.108889</td>\n",
       "      <td>1.0</td>\n",
       "    </tr>\n",
       "    <tr>\n",
       "      <th>978</th>\n",
       "      <td>1</td>\n",
       "      <td>205</td>\n",
       "      <td>270</td>\n",
       "      <td>2016-01-25</td>\n",
       "      <td>0</td>\n",
       "      <td>17</td>\n",
       "      <td>10.930634</td>\n",
       "      <td>1</td>\n",
       "      <td>12.30</td>\n",
       "      <td>1.125278</td>\n",
       "      <td>NaN</td>\n",
       "    </tr>\n",
       "    <tr>\n",
       "      <th>979</th>\n",
       "      <td>1</td>\n",
       "      <td>225</td>\n",
       "      <td>263</td>\n",
       "      <td>2016-01-27</td>\n",
       "      <td>2</td>\n",
       "      <td>21</td>\n",
       "      <td>37.009346</td>\n",
       "      <td>1</td>\n",
       "      <td>18.70</td>\n",
       "      <td>0.505278</td>\n",
       "      <td>1.0</td>\n",
       "    </tr>\n",
       "    <tr>\n",
       "      <th>980</th>\n",
       "      <td>2</td>\n",
       "      <td>197</td>\n",
       "      <td>267</td>\n",
       "      <td>2016-01-01</td>\n",
       "      <td>4</td>\n",
       "      <td>1</td>\n",
       "      <td>16.194901</td>\n",
       "      <td>1</td>\n",
       "      <td>7.94</td>\n",
       "      <td>0.490278</td>\n",
       "      <td>NaN</td>\n",
       "    </tr>\n",
       "    <tr>\n",
       "      <th>981</th>\n",
       "      <td>2</td>\n",
       "      <td>331</td>\n",
       "      <td>409</td>\n",
       "      <td>2016-01-11</td>\n",
       "      <td>0</td>\n",
       "      <td>8</td>\n",
       "      <td>12.315789</td>\n",
       "      <td>2</td>\n",
       "      <td>1.17</td>\n",
       "      <td>0.095000</td>\n",
       "      <td>1.0</td>\n",
       "    </tr>\n",
       "    <tr>\n",
       "      <th>982</th>\n",
       "      <td>2</td>\n",
       "      <td>205</td>\n",
       "      <td>265</td>\n",
       "      <td>2016-01-05</td>\n",
       "      <td>1</td>\n",
       "      <td>16</td>\n",
       "      <td>8.842105</td>\n",
       "      <td>5</td>\n",
       "      <td>0.70</td>\n",
       "      <td>0.079167</td>\n",
       "      <td>1.0</td>\n",
       "    </tr>\n",
       "    <tr>\n",
       "      <th>983</th>\n",
       "      <td>2</td>\n",
       "      <td>331</td>\n",
       "      <td>409</td>\n",
       "      <td>2016-01-11</td>\n",
       "      <td>0</td>\n",
       "      <td>18</td>\n",
       "      <td>17.406593</td>\n",
       "      <td>3</td>\n",
       "      <td>0.44</td>\n",
       "      <td>0.025278</td>\n",
       "      <td>NaN</td>\n",
       "    </tr>\n",
       "    <tr>\n",
       "      <th>984</th>\n",
       "      <td>2</td>\n",
       "      <td>205</td>\n",
       "      <td>265</td>\n",
       "      <td>2016-01-13</td>\n",
       "      <td>2</td>\n",
       "      <td>19</td>\n",
       "      <td>6.230769</td>\n",
       "      <td>2</td>\n",
       "      <td>0.63</td>\n",
       "      <td>0.101111</td>\n",
       "      <td>1.0</td>\n",
       "    </tr>\n",
       "    <tr>\n",
       "      <th>985</th>\n",
       "      <td>1</td>\n",
       "      <td>331</td>\n",
       "      <td>266</td>\n",
       "      <td>2016-01-30</td>\n",
       "      <td>5</td>\n",
       "      <td>8</td>\n",
       "      <td>9.152542</td>\n",
       "      <td>1</td>\n",
       "      <td>1.20</td>\n",
       "      <td>0.131111</td>\n",
       "      <td>1.0</td>\n",
       "    </tr>\n",
       "    <tr>\n",
       "      <th>986</th>\n",
       "      <td>2</td>\n",
       "      <td>332</td>\n",
       "      <td>266</td>\n",
       "      <td>2016-01-11</td>\n",
       "      <td>0</td>\n",
       "      <td>20</td>\n",
       "      <td>10.128617</td>\n",
       "      <td>1</td>\n",
       "      <td>1.75</td>\n",
       "      <td>0.172778</td>\n",
       "      <td>1.0</td>\n",
       "    </tr>\n",
       "    <tr>\n",
       "      <th>987</th>\n",
       "      <td>2</td>\n",
       "      <td>205</td>\n",
       "      <td>263</td>\n",
       "      <td>2016-01-17</td>\n",
       "      <td>6</td>\n",
       "      <td>18</td>\n",
       "      <td>6.698145</td>\n",
       "      <td>1</td>\n",
       "      <td>3.31</td>\n",
       "      <td>0.494167</td>\n",
       "      <td>1.0</td>\n",
       "    </tr>\n",
       "    <tr>\n",
       "      <th>988</th>\n",
       "      <td>2</td>\n",
       "      <td>205</td>\n",
       "      <td>265</td>\n",
       "      <td>2016-01-29</td>\n",
       "      <td>4</td>\n",
       "      <td>9</td>\n",
       "      <td>5.350565</td>\n",
       "      <td>2</td>\n",
       "      <td>0.92</td>\n",
       "      <td>0.171944</td>\n",
       "      <td>1.0</td>\n",
       "    </tr>\n",
       "    <tr>\n",
       "      <th>989</th>\n",
       "      <td>2</td>\n",
       "      <td>192</td>\n",
       "      <td>252</td>\n",
       "      <td>2016-01-29</td>\n",
       "      <td>4</td>\n",
       "      <td>20</td>\n",
       "      <td>5.396450</td>\n",
       "      <td>1</td>\n",
       "      <td>0.76</td>\n",
       "      <td>0.140833</td>\n",
       "      <td>1.0</td>\n",
       "    </tr>\n",
       "    <tr>\n",
       "      <th>990</th>\n",
       "      <td>2</td>\n",
       "      <td>205</td>\n",
       "      <td>265</td>\n",
       "      <td>2016-01-16</td>\n",
       "      <td>5</td>\n",
       "      <td>22</td>\n",
       "      <td>9.266667</td>\n",
       "      <td>1</td>\n",
       "      <td>1.39</td>\n",
       "      <td>0.150000</td>\n",
       "      <td>1.0</td>\n",
       "    </tr>\n",
       "    <tr>\n",
       "      <th>991</th>\n",
       "      <td>2</td>\n",
       "      <td>205</td>\n",
       "      <td>265</td>\n",
       "      <td>2016-01-20</td>\n",
       "      <td>2</td>\n",
       "      <td>22</td>\n",
       "      <td>8.870637</td>\n",
       "      <td>1</td>\n",
       "      <td>1.20</td>\n",
       "      <td>0.135278</td>\n",
       "      <td>1.0</td>\n",
       "    </tr>\n",
       "    <tr>\n",
       "      <th>992</th>\n",
       "      <td>2</td>\n",
       "      <td>331</td>\n",
       "      <td>409</td>\n",
       "      <td>2016-01-24</td>\n",
       "      <td>6</td>\n",
       "      <td>15</td>\n",
       "      <td>12.431655</td>\n",
       "      <td>1</td>\n",
       "      <td>0.48</td>\n",
       "      <td>0.038611</td>\n",
       "      <td>NaN</td>\n",
       "    </tr>\n",
       "    <tr>\n",
       "      <th>993</th>\n",
       "      <td>1</td>\n",
       "      <td>205</td>\n",
       "      <td>265</td>\n",
       "      <td>2016-01-03</td>\n",
       "      <td>6</td>\n",
       "      <td>16</td>\n",
       "      <td>7.585089</td>\n",
       "      <td>1</td>\n",
       "      <td>1.30</td>\n",
       "      <td>0.171389</td>\n",
       "      <td>1.0</td>\n",
       "    </tr>\n",
       "    <tr>\n",
       "      <th>994</th>\n",
       "      <td>2</td>\n",
       "      <td>331</td>\n",
       "      <td>265</td>\n",
       "      <td>2016-01-04</td>\n",
       "      <td>0</td>\n",
       "      <td>21</td>\n",
       "      <td>17.281741</td>\n",
       "      <td>1</td>\n",
       "      <td>3.97</td>\n",
       "      <td>0.229722</td>\n",
       "      <td>1.0</td>\n",
       "    </tr>\n",
       "    <tr>\n",
       "      <th>995</th>\n",
       "      <td>1</td>\n",
       "      <td>332</td>\n",
       "      <td>265</td>\n",
       "      <td>2016-01-27</td>\n",
       "      <td>2</td>\n",
       "      <td>4</td>\n",
       "      <td>18.593974</td>\n",
       "      <td>1</td>\n",
       "      <td>3.60</td>\n",
       "      <td>0.193611</td>\n",
       "      <td>1.0</td>\n",
       "    </tr>\n",
       "    <tr>\n",
       "      <th>996</th>\n",
       "      <td>2</td>\n",
       "      <td>224</td>\n",
       "      <td>287</td>\n",
       "      <td>2016-01-16</td>\n",
       "      <td>5</td>\n",
       "      <td>20</td>\n",
       "      <td>28.462810</td>\n",
       "      <td>1</td>\n",
       "      <td>2.87</td>\n",
       "      <td>0.100833</td>\n",
       "      <td>1.0</td>\n",
       "    </tr>\n",
       "    <tr>\n",
       "      <th>997</th>\n",
       "      <td>2</td>\n",
       "      <td>205</td>\n",
       "      <td>254</td>\n",
       "      <td>2016-01-16</td>\n",
       "      <td>5</td>\n",
       "      <td>2</td>\n",
       "      <td>12.935361</td>\n",
       "      <td>1</td>\n",
       "      <td>1.89</td>\n",
       "      <td>0.146111</td>\n",
       "      <td>1.0</td>\n",
       "    </tr>\n",
       "    <tr>\n",
       "      <th>998</th>\n",
       "      <td>2</td>\n",
       "      <td>205</td>\n",
       "      <td>266</td>\n",
       "      <td>2016-01-01</td>\n",
       "      <td>4</td>\n",
       "      <td>11</td>\n",
       "      <td>12.331492</td>\n",
       "      <td>6</td>\n",
       "      <td>1.24</td>\n",
       "      <td>0.100556</td>\n",
       "      <td>1.0</td>\n",
       "    </tr>\n",
       "    <tr>\n",
       "      <th>999</th>\n",
       "      <td>2</td>\n",
       "      <td>225</td>\n",
       "      <td>410</td>\n",
       "      <td>2016-01-15</td>\n",
       "      <td>4</td>\n",
       "      <td>20</td>\n",
       "      <td>26.185401</td>\n",
       "      <td>1</td>\n",
       "      <td>19.93</td>\n",
       "      <td>0.761111</td>\n",
       "      <td>1.0</td>\n",
       "    </tr>\n",
       "  </tbody>\n",
       "</table>\n",
       "<p>1000 rows × 11 columns</p>\n",
       "</div>"
      ],
      "text/plain": [
       "     VendorID  pickup_locationid  dropoff_locationid pickup_date  \\\n",
       "0           1                210                 265  2016-01-13   \n",
       "1           2                205                 263  2016-01-08   \n",
       "2           2                205                 266  2016-01-01   \n",
       "3           2                205                 252  2016-01-31   \n",
       "4           1                205                 263  2016-01-02   \n",
       "5           1                205                 265  2016-01-30   \n",
       "6           1                205                 409  2016-01-15   \n",
       "7           2                205                 254  2016-01-11   \n",
       "8           1                210                 265  2016-01-08   \n",
       "9           1                332                 410  2016-01-06   \n",
       "10          2                203                 254  2016-01-24   \n",
       "11          2                205                 265  2016-01-21   \n",
       "12          2                331                 265  2016-01-31   \n",
       "13          2                331                 409  2016-01-19   \n",
       "14          1                194                 409  2016-01-18   \n",
       "15          1                205                 265  2016-01-14   \n",
       "16          2                203                 286  2016-01-01   \n",
       "17          2                331                 409  2016-01-26   \n",
       "18          2                203                 263  2016-01-18   \n",
       "19          1                192                 254  2016-01-30   \n",
       "20          1                205                 263  2016-01-30   \n",
       "21          1                203                 263  2016-01-28   \n",
       "22          2                206                 265  2016-01-08   \n",
       "23          1                205                 265  2016-01-11   \n",
       "24          2                206                 410  2016-01-01   \n",
       "25          1                205                 265  2016-01-16   \n",
       "26          1                205                 265  2016-01-07   \n",
       "27          2                203                 263  2016-01-02   \n",
       "28          2                205                 265  2016-01-14   \n",
       "29          2                203                 265  2016-01-29   \n",
       "..        ...                ...                 ...         ...   \n",
       "970         2                206                 409  2016-01-04   \n",
       "971         2                203                 252  2016-01-08   \n",
       "972         2                203                 265  2016-01-19   \n",
       "973         1                205                 265  2016-01-06   \n",
       "974         1                205                 266  2016-01-12   \n",
       "975         1                205                 263  2016-01-07   \n",
       "976         2                331                 409  2016-01-16   \n",
       "977         1                331                 265  2016-01-29   \n",
       "978         1                205                 270  2016-01-25   \n",
       "979         1                225                 263  2016-01-27   \n",
       "980         2                197                 267  2016-01-01   \n",
       "981         2                331                 409  2016-01-11   \n",
       "982         2                205                 265  2016-01-05   \n",
       "983         2                331                 409  2016-01-11   \n",
       "984         2                205                 265  2016-01-13   \n",
       "985         1                331                 266  2016-01-30   \n",
       "986         2                332                 266  2016-01-11   \n",
       "987         2                205                 263  2016-01-17   \n",
       "988         2                205                 265  2016-01-29   \n",
       "989         2                192                 252  2016-01-29   \n",
       "990         2                205                 265  2016-01-16   \n",
       "991         2                205                 265  2016-01-20   \n",
       "992         2                331                 409  2016-01-24   \n",
       "993         1                205                 265  2016-01-03   \n",
       "994         2                331                 265  2016-01-04   \n",
       "995         1                332                 265  2016-01-27   \n",
       "996         2                224                 287  2016-01-16   \n",
       "997         2                205                 254  2016-01-16   \n",
       "998         2                205                 266  2016-01-01   \n",
       "999         2                225                 410  2016-01-15   \n",
       "\n",
       "     pickup_weekday  pickup_hour  trip_speed  passenger_count  trip_distance  \\\n",
       "0                 2           10   22.562674                1           9.00   \n",
       "1                 4            8    8.109331                1           2.39   \n",
       "2                 4           19   16.767123                1           1.02   \n",
       "3                 6           19    8.081633                1           1.87   \n",
       "4                 5           10   12.244898                1           1.00   \n",
       "5                 5           16   11.148387                1           2.40   \n",
       "6                 4           18   11.012658                2           2.90   \n",
       "7                 0            8    6.120000                2           0.68   \n",
       "8                 4           18   20.686922                1           8.70   \n",
       "9                 2           17   11.732419                1           1.90   \n",
       "10                6           21   11.513126                1           1.34   \n",
       "11                3            8    6.387097                1           1.10   \n",
       "12                6           21   17.933416                1           4.04   \n",
       "13                1           13   12.643902                1           0.72   \n",
       "14                0            3   20.039761                4           5.60   \n",
       "15                3           17    7.926606                1           2.40   \n",
       "16                4            8   32.658153                5          18.47   \n",
       "17                1           12   10.807611                1           1.42   \n",
       "18                0           13   10.671429                1           0.83   \n",
       "19                5            7   12.857143                2           3.20   \n",
       "20                5           21    5.593536                1           2.50   \n",
       "21                3           21   11.412104                1           3.30   \n",
       "22                4            8    8.337662                1           3.21   \n",
       "23                0           18    8.634686                3           1.30   \n",
       "24                4            2   11.680851                5           1.22   \n",
       "25                5           22   10.896391                1           2.60   \n",
       "26                3            8    7.728086                1           1.20   \n",
       "27                5            2    6.428571                1           0.70   \n",
       "28                3           19    9.245283                2           2.45   \n",
       "29                4           20    9.889789                1           3.39   \n",
       "..              ...          ...         ...              ...            ...   \n",
       "970               0           11   10.781726                1           2.36   \n",
       "971               4           23    9.291397                1           2.79   \n",
       "972               1            9    5.153226                1           0.71   \n",
       "973               2            2    8.181818                1           0.50   \n",
       "974               1           21    8.059701                1           0.60   \n",
       "975               3           22    9.383886                4           1.10   \n",
       "976               5           10   17.739130                1           1.02   \n",
       "977               4           10    8.265306                1           0.90   \n",
       "978               0           17   10.930634                1          12.30   \n",
       "979               2           21   37.009346                1          18.70   \n",
       "980               4            1   16.194901                1           7.94   \n",
       "981               0            8   12.315789                2           1.17   \n",
       "982               1           16    8.842105                5           0.70   \n",
       "983               0           18   17.406593                3           0.44   \n",
       "984               2           19    6.230769                2           0.63   \n",
       "985               5            8    9.152542                1           1.20   \n",
       "986               0           20   10.128617                1           1.75   \n",
       "987               6           18    6.698145                1           3.31   \n",
       "988               4            9    5.350565                2           0.92   \n",
       "989               4           20    5.396450                1           0.76   \n",
       "990               5           22    9.266667                1           1.39   \n",
       "991               2           22    8.870637                1           1.20   \n",
       "992               6           15   12.431655                1           0.48   \n",
       "993               6           16    7.585089                1           1.30   \n",
       "994               0           21   17.281741                1           3.97   \n",
       "995               2            4   18.593974                1           3.60   \n",
       "996               5           20   28.462810                1           2.87   \n",
       "997               5            2   12.935361                1           1.89   \n",
       "998               4           11   12.331492                6           1.24   \n",
       "999               4           20   26.185401                1          19.93   \n",
       "\n",
       "     trip_duration  pickup_day  \n",
       "0         0.398889         NaN  \n",
       "1         0.294722         NaN  \n",
       "2         0.060833         NaN  \n",
       "3         0.231389         NaN  \n",
       "4         0.081667         NaN  \n",
       "5         0.215278         1.0  \n",
       "6         0.263333         1.0  \n",
       "7         0.111111         1.0  \n",
       "8         0.420556         1.0  \n",
       "9         0.161944         1.0  \n",
       "10        0.116389         1.0  \n",
       "11        0.172222         1.0  \n",
       "12        0.225278         NaN  \n",
       "13        0.056944         1.0  \n",
       "14        0.279444         1.0  \n",
       "15        0.302778         NaN  \n",
       "16        0.565556         1.0  \n",
       "17        0.131389         1.0  \n",
       "18        0.077778         1.0  \n",
       "19        0.248889         1.0  \n",
       "20        0.446944         1.0  \n",
       "21        0.289167         1.0  \n",
       "22        0.385000         1.0  \n",
       "23        0.150556         1.0  \n",
       "24        0.104444         1.0  \n",
       "25        0.238611         1.0  \n",
       "26        0.155278         1.0  \n",
       "27        0.108889         1.0  \n",
       "28        0.265000         1.0  \n",
       "29        0.342778         1.0  \n",
       "..             ...         ...  \n",
       "970       0.218889         1.0  \n",
       "971       0.300278         1.0  \n",
       "972       0.137778         1.0  \n",
       "973       0.061111         1.0  \n",
       "974       0.074444         1.0  \n",
       "975       0.117222         1.0  \n",
       "976       0.057500         NaN  \n",
       "977       0.108889         1.0  \n",
       "978       1.125278         NaN  \n",
       "979       0.505278         1.0  \n",
       "980       0.490278         NaN  \n",
       "981       0.095000         1.0  \n",
       "982       0.079167         1.0  \n",
       "983       0.025278         NaN  \n",
       "984       0.101111         1.0  \n",
       "985       0.131111         1.0  \n",
       "986       0.172778         1.0  \n",
       "987       0.494167         1.0  \n",
       "988       0.171944         1.0  \n",
       "989       0.140833         1.0  \n",
       "990       0.150000         1.0  \n",
       "991       0.135278         1.0  \n",
       "992       0.038611         NaN  \n",
       "993       0.171389         1.0  \n",
       "994       0.229722         1.0  \n",
       "995       0.193611         1.0  \n",
       "996       0.100833         1.0  \n",
       "997       0.146111         1.0  \n",
       "998       0.100556         1.0  \n",
       "999       0.761111         1.0  \n",
       "\n",
       "[1000 rows x 11 columns]"
      ]
     },
     "execution_count": 101,
     "metadata": {},
     "output_type": "execute_result"
    }
   ],
   "source": [
    "training_df.head(1000)"
   ]
  },
  {
   "cell_type": "code",
   "execution_count": 40,
   "metadata": {},
   "outputs": [],
   "source": [
    "training_df_copy = training_df"
   ]
  },
  {
   "cell_type": "code",
   "execution_count": 54,
   "metadata": {},
   "outputs": [],
   "source": [
    "training_df = training_df_copy"
   ]
  },
  {
   "cell_type": "code",
   "execution_count": 102,
   "metadata": {
    "scrolled": true
   },
   "outputs": [
    {
     "name": "stderr",
     "output_type": "stream",
     "text": [
      "/anaconda3/lib/python3.7/site-packages/ipykernel_launcher.py:1: SettingWithCopyWarning: \n",
      "A value is trying to be set on a copy of a slice from a DataFrame.\n",
      "Try using .loc[row_indexer,col_indexer] = value instead\n",
      "\n",
      "See the caveats in the documentation: http://pandas.pydata.org/pandas-docs/stable/indexing.html#indexing-view-versus-copy\n",
      "  \"\"\"Entry point for launching an IPython kernel.\n"
     ]
    }
   ],
   "source": [
    "training_df['pickup_day'] = pd.to_datetime(df['tpep_pickup_datetime'],infer_datetime_format=True).dt.day"
   ]
  },
  {
   "cell_type": "code",
   "execution_count": null,
   "metadata": {},
   "outputs": [],
   "source": []
  },
  {
   "cell_type": "markdown",
   "metadata": {},
   "source": [
    "## A. Feature selection:\n",
    "NOTE: It is important that you use only those features that are available to your algorithm when\n",
    "the Maps app generates the ETA at the start of the taxi trip. Therefore, you cannot use any of\n",
    "the features related to to the final fare/pricing, because those are not known until after the trip\n",
    "has completed. Specifically, you cannot use these features: payment_type, fare_amount,\n",
    "extra, MTA_tax, improvement_surcharge, tip_amount, tolls_amount, and\n",
    "total_amount, store_and_fwd_flag.\n",
    "Also tpep_dropoff_datetime can not be used."
   ]
  },
  {
   "cell_type": "code",
   "execution_count": 33,
   "metadata": {},
   "outputs": [
    {
     "data": {
      "text/plain": [
       "['VendorID',\n",
       " 'tpep_pickup_datetime',\n",
       " 'tpep_dropoff_datetime',\n",
       " 'passenger_count',\n",
       " 'trip_distance',\n",
       " 'pickup_longitude',\n",
       " 'pickup_latitude',\n",
       " 'RatecodeID',\n",
       " 'store_and_fwd_flag',\n",
       " 'dropoff_longitude',\n",
       " 'dropoff_latitude',\n",
       " 'payment_type',\n",
       " 'fare_amount',\n",
       " 'extra',\n",
       " 'mta_tax',\n",
       " 'tip_amount',\n",
       " 'tolls_amount',\n",
       " 'improvement_surcharge',\n",
       " 'total_amount',\n",
       " 'pickup_date',\n",
       " 'pickup_weekday',\n",
       " 'pickup_hour',\n",
       " 'trip_speed',\n",
       " 'pickup_hash',\n",
       " 'dropoff_hash',\n",
       " 'pickup_locationid',\n",
       " 'dropoff_locationid',\n",
       " 'trip_duration']"
      ]
     },
     "execution_count": 33,
     "metadata": {},
     "output_type": "execute_result"
    }
   ],
   "source": [
    "df.columns.tolist()"
   ]
  },
  {
   "cell_type": "code",
   "execution_count": 131,
   "metadata": {},
   "outputs": [],
   "source": [
    "feature_names = ['VendorID','pickup_locationid',\n",
    " 'dropoff_locationid','pickup_day',\n",
    " 'pickup_weekday',\n",
    " 'pickup_hour','passenger_count',\n",
    " 'trip_distance']\n",
    "label = ['trip_duration']"
   ]
  },
  {
   "cell_type": "code",
   "execution_count": 120,
   "metadata": {},
   "outputs": [],
   "source": [
    "train_df = training_df[feature_names+label]"
   ]
  },
  {
   "cell_type": "code",
   "execution_count": 109,
   "metadata": {},
   "outputs": [
    {
     "name": "stdout",
     "output_type": "stream",
     "text": [
      "<class 'pandas.core.frame.DataFrame'>\n",
      "RangeIndex: 6148009 entries, 0 to 6148008\n",
      "Data columns (total 10 columns):\n",
      "VendorID              int64\n",
      "pickup_locationid     int64\n",
      "dropoff_locationid    int64\n",
      "pickup_day            float64\n",
      "pickup_weekday        int64\n",
      "pickup_hour           int64\n",
      "trip_speed            float64\n",
      "passenger_count       int64\n",
      "trip_distance         float64\n",
      "trip_duration         float64\n",
      "dtypes: float64(4), int64(6)\n",
      "memory usage: 469.1 MB\n"
     ]
    }
   ],
   "source": [
    "train_df.info()"
   ]
  },
  {
   "cell_type": "code",
   "execution_count": 110,
   "metadata": {
    "scrolled": false
   },
   "outputs": [
    {
     "data": {
      "text/plain": [
       "<matplotlib.axes._subplots.AxesSubplot at 0x125502550>"
      ]
     },
     "execution_count": 110,
     "metadata": {},
     "output_type": "execute_result"
    },
    {
     "data": {
      "image/png": "[encoded data removed]",
      "text/plain": [
       "<Figure size 432x288 with 2 Axes>"
      ]
     },
     "metadata": {
      "needs_background": "light"
     },
     "output_type": "display_data"
    }
   ],
   "source": [
    "sns.heatmap(train_df.corr())"
   ]
  },
  {
   "cell_type": "code",
   "execution_count": 123,
   "metadata": {},
   "outputs": [
    {
     "name": "stdout",
     "output_type": "stream",
     "text": [
      "5735100\n"
     ]
    }
   ],
   "source": [
    "#remove missing value:\n",
    "train_df = train_df[train_df['pickup_day'].notna()]\n",
    "print (len(train_df))"
   ]
  },
  {
   "cell_type": "code",
   "execution_count": 124,
   "metadata": {},
   "outputs": [],
   "source": [
    "#sample a smaller dataset for training\n",
    "train_df = train_df.sample(frac=0.1,replace=False,random_state=1)"
   ]
  },
  {
   "cell_type": "code",
   "execution_count": 129,
   "metadata": {
    "scrolled": false
   },
   "outputs": [
    {
     "name": "stderr",
     "output_type": "stream",
     "text": [
      "/anaconda3/lib/python3.7/site-packages/ipykernel_launcher.py:7: DataConversionWarning: A column-vector y was passed when a 1d array was expected. Please change the shape of y to (n_samples,), for example using ravel().\n",
      "  import sys\n"
     ]
    },
    {
     "name": "stdout",
     "output_type": "stream",
     "text": [
      "145.9424810409546\n"
     ]
    }
   ],
   "source": [
    "#Compute the feature importance with RFR\n",
    "start = time.time()\n",
    "X_train = train_df[feature_names]\n",
    "y_train = train_df[label]\n",
    "reg = RandomForestRegressor(n_estimators=200, random_state=0, n_jobs=-1)\n",
    "# Train the classifier\n",
    "reg.fit(X_train, y_train)\n",
    "end = time.time()\n",
    "print (end-start)"
   ]
  },
  {
   "cell_type": "code",
   "execution_count": null,
   "metadata": {},
   "outputs": [],
   "source": []
  },
  {
   "cell_type": "code",
   "execution_count": 132,
   "metadata": {},
   "outputs": [
    {
     "data": {
      "image/png": "[encoded data removed]",
      "text/plain": [
       "<Figure size 720x576 with 1 Axes>"
      ]
     },
     "metadata": {
      "needs_background": "light"
     },
     "output_type": "display_data"
    }
   ],
   "source": [
    "importance = reg.feature_importances_\n",
    "plot_feature_importance(importance,feature_names,'randomforest')"
   ]
  },
  {
   "cell_type": "code",
   "execution_count": 133,
   "metadata": {},
   "outputs": [
    {
     "data": {
      "text/plain": [
       "0.9717469885180434"
      ]
     },
     "execution_count": 133,
     "metadata": {},
     "output_type": "execute_result"
    }
   ],
   "source": [
    "reg.score(X_train,y_train)"
   ]
  },
  {
   "cell_type": "markdown",
   "metadata": {},
   "source": [
    "#Based on the Randomforest results, trip distance is most correlated to duration. pickup_hour,offEncoder, passenger_count, upEncoder,  are all significant features. Therefore, in the prediction model, these 5 features will be used as inputs. "
   ]
  },
  {
   "cell_type": "markdown",
   "metadata": {},
   "source": [
    "## B. Time series analysis"
   ]
  },
  {
   "cell_type": "code",
   "execution_count": null,
   "metadata": {},
   "outputs": [],
   "source": [
    "date_df = training_df[['trip_duration','pickup_date'],index = 'pickup_date']"
   ]
  },
  {
   "cell_type": "code",
   "execution_count": null,
   "metadata": {},
   "outputs": [],
   "source": []
  },
  {
   "cell_type": "markdown",
   "metadata": {},
   "source": [
    "# Build model"
   ]
  },
  {
   "cell_type": "markdown",
   "metadata": {},
   "source": [
    "## A. load data and sample data"
   ]
  },
  {
   "cell_type": "code",
   "execution_count": 147,
   "metadata": {},
   "outputs": [],
   "source": [
    "#load data:\n",
    "train_data = pd.read_csv('data/data-training.csv')\n",
    "validation_data = pd.read_csv('data/data-validation.csv')\n",
    "test_data = pd.read_csv('data/data-test.csv')"
   ]
  },
  {
   "cell_type": "code",
   "execution_count": 158,
   "metadata": {
    "scrolled": true
   },
   "outputs": [
    {
     "name": "stdout",
     "output_type": "stream",
     "text": [
      "train_size: 614801, validation_size: 204934, test_size: 204934\n"
     ]
    }
   ],
   "source": [
    "#sampling data:\n",
    "train_data = train_data.sample(frac = 0.1, replace=False, random_state = 1)\n",
    "test_data = test_data.sample(frac = 0.1, replace=False, random_state = 1)\n",
    "validation_data= validation_data.sample(frac = 0.1, replace=False, random_state = 1)\n",
    "print ('train_size: {}, validation_size: {}, test_size: {}'.format(len(train_data),len(validation_data),len(test_data)))"
   ]
  },
  {
   "cell_type": "code",
   "execution_count": 159,
   "metadata": {},
   "outputs": [],
   "source": [
    "#Create inputs for model\n",
    "X_train,y_train = train_data[feature_names],train_data[label]\n",
    "X_validation,y_validation = validation_data[feature_names],validation_data[label]\n",
    "X_test,y_test = test_data[feature_names],test_data[label]"
   ]
  },
  {
   "cell_type": "markdown",
   "metadata": {},
   "source": [
    "## B. Initialize estimators and param_grid"
   ]
  },
  {
   "cell_type": "code",
   "execution_count": 202,
   "metadata": {},
   "outputs": [],
   "source": [
    "#random forest regressor\n",
    "rfr = RandomForestRegressor()\n",
    "rfr_grid = {\n",
    "    'bootstrap': [True],\n",
    "    'max_depth': [80],\n",
    "    'max_features': [1],\n",
    "    'min_samples_leaf': [5],\n",
    "    'min_samples_split': [12],\n",
    "    'n_estimators': [200]\n",
    "}\n",
    "#gradient boost regressor\n",
    "gbr = GradientBoostingRegressor()\n",
    "gbr_grid = {\n",
    "    \"learning_rate\": [0.5],\n",
    "    \"min_samples_split\": [12],\n",
    "    \"min_samples_leaf\": [5],\n",
    "    \"max_depth\":[8],\n",
    "    \"max_features\":[\"sqrt\"],\n",
    "    \"n_estimators\":[50,80]\n",
    "    }\n",
    "#svr regressor\n",
    "svr = SVR()\n",
    "svr_grid = {\n",
    "    'kernel':['linear'],\n",
    "    'C': [0.1, 1],\n",
    "    'epsilon': [0.1],\n",
    "    'gamma': [0.1]\n",
    "}\n",
    "#decision tree regressor\n",
    "dtr = DecisionTreeRegressor()\n",
    "dtr_grid = {\n",
    "    \"criterion\": [\"mse\", \"mae\"],\n",
    "    \"min_samples_split\": [10, 20, 40],\n",
    "    \"max_depth\": [2, 6, 8],\n",
    "    \"min_samples_leaf\": [20, 40, 100],\n",
    "    \"max_leaf_nodes\": [5, 20, 100],\n",
    "              }\n",
    "#multi-layer perceptron neuron_network regressor\n",
    "mlpr = MLPRegressor()\n",
    "mlpr_grid = {\n",
    "    \"hidden_layer_sizes\": [(20,)],\n",
    "    \"activation\": [\"relu\"], \n",
    "    \"solver\": [\"adam\"], \n",
    "    \"alpha\": [0.0005],\n",
    "    'learning_rate': ['adaptive'],\n",
    "    'batch_size':[32]\n",
    "}"
   ]
  },
  {
   "cell_type": "markdown",
   "metadata": {},
   "source": [
    "## C. hyperparameter tuning with GridSearchCV"
   ]
  },
  {
   "cell_type": "code",
   "execution_count": 204,
   "metadata": {
    "scrolled": false
   },
   "outputs": [
    {
     "name": "stdout",
     "output_type": "stream",
     "text": [
      "Fitting 2 folds for each of 1 candidates, totalling 2 fits\n"
     ]
    },
    {
     "name": "stderr",
     "output_type": "stream",
     "text": [
      "[Parallel(n_jobs=-1)]: Using backend LokyBackend with 4 concurrent workers.\n",
      "[Parallel(n_jobs=-1)]: Done   2 out of   2 | elapsed:  4.4min finished\n",
      "/anaconda3/lib/python3.7/site-packages/sklearn/neural_network/multilayer_perceptron.py:1316: DataConversionWarning: A column-vector y was passed when a 1d array was expected. Please change the shape of y to (n_samples, ), for example using ravel().\n",
      "  y = column_or_1d(y, warn=True)\n"
     ]
    },
    {
     "name": "stdout",
     "output_type": "stream",
     "text": [
      "515.6447138786316\n"
     ]
    }
   ],
   "source": [
    "start = time.time()\n",
    "# Instantiate the grid search model\n",
    "grid_search = GridSearchCV(estimator = mlpr, param_grid = mlpr_grid, \n",
    "                          cv = 2, n_jobs = -1, verbose = 2)\n",
    "grid_search.fit(X_train,y_train)\n",
    "end = time.time()\n",
    "print (end-start)"
   ]
  },
  {
   "cell_type": "code",
   "execution_count": 205,
   "metadata": {
    "scrolled": true
   },
   "outputs": [
    {
     "data": {
      "text/plain": [
       "{'activation': 'relu',\n",
       " 'alpha': 0.0005,\n",
       " 'batch_size': 32,\n",
       " 'hidden_layer_sizes': (20,),\n",
       " 'learning_rate': 'adaptive',\n",
       " 'solver': 'adam'}"
      ]
     },
     "execution_count": 205,
     "metadata": {},
     "output_type": "execute_result"
    }
   ],
   "source": [
    "grid_search.best_params_"
   ]
  },
  {
   "cell_type": "code",
   "execution_count": 206,
   "metadata": {},
   "outputs": [],
   "source": [
    "#Get the best parameters\n",
    "mlpr_score = grid_search.score(X_validation,y_validation)"
   ]
  },
  {
   "cell_type": "code",
   "execution_count": 207,
   "metadata": {},
   "outputs": [
    {
     "name": "stdout",
     "output_type": "stream",
     "text": [
      "MLPRegressor R2 score: 0.7460040852855077\n"
     ]
    }
   ],
   "source": [
    "print('MLPRegressor R2 score: {}'.format(mlpr_score))"
   ]
  },
  {
   "cell_type": "code",
   "execution_count": 193,
   "metadata": {},
   "outputs": [
    {
     "name": "stdout",
     "output_type": "stream",
     "text": [
      "GradientBoostingRegressor R2 score: 0.8455591415116775\n"
     ]
    }
   ],
   "source": [
    "print('GradientBoostingRegressor R2 score: {}'.format(gbr_score))"
   ]
  },
  {
   "cell_type": "code",
   "execution_count": 172,
   "metadata": {},
   "outputs": [
    {
     "name": "stdout",
     "output_type": "stream",
     "text": [
      "RandomForestregressor R2 score: 0.829314196876463\n"
     ]
    }
   ],
   "source": [
    "print('RandomForestregressor R2 score: {}'.format(rfr_score))"
   ]
  },
  {
   "cell_type": "markdown",
   "metadata": {},
   "source": [
    "## D. MLPR hypertuning with random search"
   ]
  },
  {
   "cell_type": "code",
   "execution_count": 219,
   "metadata": {},
   "outputs": [],
   "source": [
    "#create random para_distribution\n",
    "mlpr_dist = {\n",
    " 'activation': ['relu'],\n",
    " 'alpha': loguniform(1e-5, 1e0),\n",
    " 'batch_size': [32],\n",
    " 'hidden_layer_sizes': [(10,)],\n",
    " 'learning_rate': ['adaptive'],\n",
    " 'solver': ['adam']\n",
    "}"
   ]
  },
  {
   "cell_type": "code",
   "execution_count": 220,
   "metadata": {},
   "outputs": [
    {
     "name": "stdout",
     "output_type": "stream",
     "text": [
      "Fitting 3 folds for each of 1 candidates, totalling 3 fits\n"
     ]
    },
    {
     "name": "stderr",
     "output_type": "stream",
     "text": [
      "[Parallel(n_jobs=-1)]: Using backend LokyBackend with 4 concurrent workers.\n",
      "[Parallel(n_jobs=-1)]: Done   3 out of   3 | elapsed:  2.1min finished\n",
      "/anaconda3/lib/python3.7/site-packages/sklearn/neural_network/multilayer_perceptron.py:1316: DataConversionWarning: A column-vector y was passed when a 1d array was expected. Please change the shape of y to (n_samples, ), for example using ravel().\n",
      "  y = column_or_1d(y, warn=True)\n"
     ]
    },
    {
     "name": "stdout",
     "output_type": "stream",
     "text": [
      "535.6436121463776 s\n"
     ]
    }
   ],
   "source": [
    "#initialize random search\n",
    "start = time.time()\n",
    "random_search = RandomizedSearchCV(estimator=mlpr, param_distributions=mlpr_dist,n_jobs=-1,\n",
    "                                   n_iter=1,verbose=1)\n",
    "random_search.fit(X_train,y_train)\n",
    "end = time.time()\n",
    "print ('{} s'.format(end-start))"
   ]
  },
  {
   "cell_type": "code",
   "execution_count": 221,
   "metadata": {},
   "outputs": [
    {
     "data": {
      "text/plain": [
       "{'activation': 'relu',\n",
       " 'alpha': 4.0447497234827776e-05,\n",
       " 'batch_size': 32,\n",
       " 'hidden_layer_sizes': (10,),\n",
       " 'learning_rate': 'adaptive',\n",
       " 'solver': 'adam'}"
      ]
     },
     "execution_count": 221,
     "metadata": {},
     "output_type": "execute_result"
    }
   ],
   "source": [
    "random_search.best_params_"
   ]
  },
  {
   "cell_type": "code",
   "execution_count": 222,
   "metadata": {},
   "outputs": [
    {
     "name": "stdout",
     "output_type": "stream",
     "text": [
      "MLPRegressor R2 score: 0.6998797079563353\n"
     ]
    }
   ],
   "source": [
    "#Get the best parameters\n",
    "mlpr_score = random_search.score(X_validation,y_validation)\n",
    "print('MLPRegressor R2 score: {}'.format(mlpr_score))"
   ]
  },
  {
   "cell_type": "markdown",
   "metadata": {},
   "source": [
    "# Conclusions"
   ]
  },
  {
   "cell_type": "markdown",
   "metadata": {},
   "source": [
    "1. This study compared randomforest, GBDT, MLP and SVR. The best performance come from GBDT with R2 0.85\n",
    "2. Trainign time: SVR take the longest time for training. Using GBDT, the running time heavily depends on the estimator number used. Random forest is fastest.\n",
    "3. MLP has more hyperparameters to tune, it is time consuming to go with grid search method. "
   ]
  },
  {
   "cell_type": "code",
   "execution_count": null,
   "metadata": {},
   "outputs": [],
   "source": []
  }
 ],
 "metadata": {
  "kernelspec": {
   "display_name": "Python 3",
   "language": "python",
   "name": "python3"
  },
  "language_info": {
   "codemirror_mode": {
    "name": "ipython",
    "version": 3
   },
   "file_extension": ".py",
   "mimetype": "text/x-python",
   "name": "python",
   "nbconvert_exporter": "python",
   "pygments_lexer": "ipython3",
   "version": "3.7.1"
  }
 },
 "nbformat": 4,
 "nbformat_minor": 2
}
